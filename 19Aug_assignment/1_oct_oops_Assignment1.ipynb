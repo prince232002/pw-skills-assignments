{
 "cells": [
  {
   "cell_type": "markdown",
   "metadata": {},
   "source": [
    "Problem 1: Bank Account Create a class representing a bank account with attributes like account number, account holder name, and balance. Implement methods to deposit and withdraw money from the account."
   ]
  },
  {
   "cell_type": "code",
   "execution_count": 16,
   "metadata": {},
   "outputs": [
    {
     "name": "stdout",
     "output_type": "stream",
     "text": [
      "Deposited : 1000 successfully, New balance : 2000.0\n",
      "Deposited : 1000 successfully, New balance : 3000.0\n",
      "Withdrawn : 1000 successfully, left balance : 2000.0\n"
     ]
    }
   ],
   "source": [
    "class BankAccount:\n",
    "    def __init__(self, account_number, account_holder_name, balance):\n",
    "        self.account_number = account_number\n",
    "        self.account_holder_name = account_holder_name\n",
    "        self.balance = balance\n",
    "    def deposit(self,amount):\n",
    "        if amount>0:\n",
    "            self.balance+=amount\n",
    "            return f\"Deposited : {amount} successfully, New balance : {self.balance}\"\n",
    "        return \"Invalid deposit amount\"\n",
    "    def withdraw(self,amount):\n",
    "        if 0<amount<self.balance:\n",
    "            self.balance-=amount\n",
    "            return f\"Withdrawn : {amount} successfully, left balance : {self.balance}\"\n",
    "        return \"Invalid or ensufficient balance\"\n",
    "\n",
    "\n",
    "account = BankAccount(\"12345\", \"John Doe\", 1000.0)\n",
    "print(account.deposit(1000))\n",
    "print(account.deposit(1000))\n",
    "print(account.withdraw(1000))"
   ]
  },
  {
   "cell_type": "markdown",
   "metadata": {},
   "source": [
    "Problem 2: Employee Management Create a class representing an employee with attributes like employee ID, name, and salary. Implement methods to calculate the yearly bonus and display employee details."
   ]
  },
  {
   "cell_type": "code",
   "execution_count": 17,
   "metadata": {},
   "outputs": [
    {
     "name": "stdout",
     "output_type": "stream",
     "text": [
      "Employee ID: 101\n",
      "Name: John Doe\n",
      "Salary: $50000\n",
      "Yearly Bonus: $5000.0\n"
     ]
    }
   ],
   "source": [
    "class Employee:\n",
    "    def __init__(self, employee_id, name, salary):\n",
    "        self.employee_id = employee_id\n",
    "        self.name = name\n",
    "        self.salary = salary\n",
    "\n",
    "    def calculate_bonus(self, percentage):\n",
    "        if 0 <= percentage <= 100:\n",
    "            bonus = (percentage / 100) * self.salary\n",
    "            return bonus\n",
    "        else:\n",
    "            return \"Invalid bonus percentage.\"\n",
    "\n",
    "    def display_details(self):\n",
    "        return f\"Employee ID: {self.employee_id}\\nName: {self.name}\\nSalary: ${self.salary}\"\n",
    "\n",
    "employee = Employee(101, \"John Doe\", 50000)\n",
    "print(employee.display_details())\n",
    "print(f\"Yearly Bonus: ${employee.calculate_bonus(10)}\")"
   ]
  },
  {
   "cell_type": "markdown",
   "metadata": {},
   "source": [
    "Problem 3: Vehicle Rental Create a class representing a vehicle rental system. Implement methods to rent a vehicle, return a vehicle, and display available vehicles."
   ]
  },
  {
   "cell_type": "code",
   "execution_count": 18,
   "metadata": {},
   "outputs": [
    {
     "name": "stdout",
     "output_type": "stream",
     "text": [
      "Available vehicles: Scooty, Car, Bike\n",
      "Rented a Car.\n",
      "Available vehicles: Scooty, Bike\n",
      "Returned Car.\n",
      "Available vehicles: Scooty, Bike, Car\n"
     ]
    }
   ],
   "source": [
    "class VehicleRentalSystem:\n",
    "    def __init__(self):\n",
    "        self.available_vehicles = []\n",
    "\n",
    "    def add_vehicle(self, vehicle_name):\n",
    "        self.available_vehicles.append(vehicle_name)\n",
    "\n",
    "    def rent_vehicle(self, vehicle_name):\n",
    "        if vehicle_name in self.available_vehicles:\n",
    "            self.available_vehicles.remove(vehicle_name)\n",
    "            print(f\"Rented a {vehicle_name}.\")\n",
    "        else:\n",
    "            print(f\"No {vehicle_name} available for rent.\")\n",
    "\n",
    "    def return_vehicle(self, vehicle_name):\n",
    "        self.available_vehicles.append(vehicle_name)\n",
    "        print(f\"Returned {vehicle_name}.\")\n",
    "\n",
    "    def display_available_vehicles(self):\n",
    "        if self.available_vehicles:\n",
    "            print(\"Available vehicles: \" + \", \".join(self.available_vehicles))\n",
    "        else:\n",
    "            print(\"No vehicles available for rent.\")\n",
    "\n",
    "rental_system = VehicleRentalSystem()\n",
    "rental_system.add_vehicle('Scooty')\n",
    "rental_system.add_vehicle('Car')\n",
    "rental_system.add_vehicle('Bike')\n",
    "\n",
    "rental_system.display_available_vehicles()\n",
    "rental_system.rent_vehicle('Car')\n",
    "rental_system.display_available_vehicles()\n",
    "rental_system.return_vehicle('Car')\n",
    "rental_system.display_available_vehicles()\n"
   ]
  },
  {
   "cell_type": "markdown",
   "metadata": {},
   "source": [
    "Problem 4: Library Catalog Create classes representing a library and a book. Implement methods to add books to the library, borrow books, and display available books."
   ]
  },
  {
   "cell_type": "code",
   "execution_count": 19,
   "metadata": {},
   "outputs": [
    {
     "name": "stdout",
     "output_type": "stream",
     "text": [
      "You have borrowed 'Book 1'.\n",
      "Available books: Book 2\n"
     ]
    }
   ],
   "source": [
    "class Library:\n",
    "    def __init__(self):\n",
    "        self.books = []\n",
    "\n",
    "    def add_book(self, title):\n",
    "        self.books.append(title)\n",
    "\n",
    "    def borrow_book(self, title):\n",
    "        if title in self.books:\n",
    "            self.books.remove(title)\n",
    "            return f\"You have borrowed '{title}'.\"\n",
    "        return \"Book not available for borrowing.\"\n",
    "\n",
    "    def display_available_books(self):\n",
    "        if self.books:\n",
    "            return \"Available books: \" + \", \".join(self.books)\n",
    "        else:\n",
    "            return \"No books available in the library.\"\n",
    "\n",
    "library = Library()\n",
    "\n",
    "library.add_book(\"Book 1\")\n",
    "library.add_book(\"Book 2\")\n",
    "\n",
    "borrowed_book = library.borrow_book(\"Book 1\")\n",
    "print(borrowed_book)\n",
    "\n",
    "available_books = library.display_available_books()\n",
    "print(available_books)\n"
   ]
  },
  {
   "cell_type": "markdown",
   "metadata": {},
   "source": [
    "Problem 5: Product Inventory Create classes representing a product and an inventory system. Implement methods to \\add products to the inventory, update product quantity, and display available products."
   ]
  },
  {
   "cell_type": "code",
   "execution_count": 20,
   "metadata": {},
   "outputs": [
    {
     "name": "stdout",
     "output_type": "stream",
     "text": [
      "Updated quantity for Product 1 to 3.\n",
      "Available products:\n",
      "Product 1 - Price: $10 - Quantity: 3\n",
      "Product 2 - Price: $15 - Quantity: 8\n"
     ]
    }
   ],
   "source": [
    "class Product:\n",
    "    def __init__(self, name, price, quantity):\n",
    "        self.name = name\n",
    "        self.price = price\n",
    "        self.quantity = quantity\n",
    "\n",
    "    def __str__(self):\n",
    "        return f\"{self.name} - Price: ${self.price} - Quantity: {self.quantity}\"\n",
    "\n",
    "class Inventory:\n",
    "    def __init__(self):\n",
    "        self.products = []\n",
    "\n",
    "    def add_product(self, product):\n",
    "        self.products.append(product)\n",
    "\n",
    "    def update_quantity(self, product_name, new_quantity):\n",
    "        for product in self.products:\n",
    "            if product.name == product_name:\n",
    "                product.quantity = new_quantity\n",
    "                return f\"Updated quantity for {product.name} to {new_quantity}.\"\n",
    "        return \"Product not found in the inventory.\"\n",
    "\n",
    "    def display_available_products(self):\n",
    "        available_products = [product for product in self.products if product.quantity > 0]\n",
    "        if available_products:\n",
    "            return \"Available products:\\n\" + \"\\n\".join(str(product) for product in available_products)\n",
    "        else:\n",
    "            return \"No products available in the inventory.\"\n",
    "\n",
    "inventory = Inventory()\n",
    "\n",
    "product1 = Product(\"Product 1\", 10, 5)\n",
    "product2 = Product(\"Product 2\", 15, 8)\n",
    "inventory.add_product(product1)\n",
    "inventory.add_product(product2)\n",
    "\n",
    "update_result = inventory.update_quantity(\"Product 1\", 3)\n",
    "print(update_result)\n",
    "\n",
    "available_products = inventory.display_available_products()\n",
    "print(available_products)\n"
   ]
  },
  {
   "cell_type": "markdown",
   "metadata": {},
   "source": [
    "Problem 6: Shape Calculation Create a class representing a shape with attributes like length, width, and height. Implement methods to calculate the area and perimeter of the shape."
   ]
  },
  {
   "cell_type": "code",
   "execution_count": 21,
   "metadata": {},
   "outputs": [
    {
     "name": "stdout",
     "output_type": "stream",
     "text": [
      "Surface Area: 148\n",
      "Volume: 120\n"
     ]
    }
   ],
   "source": [
    "class Shape:\n",
    "    def __init__(self, length, width, height):\n",
    "        self.length = length\n",
    "        self.width = width\n",
    "        self.height = height\n",
    "\n",
    "    def area(self):\n",
    "        return 2 * (self.length * self.width + self.width * self.height + self.height * self.length)\n",
    "\n",
    "    def volume(self):\n",
    "        return self.length * self.width * self.height\n",
    "\n",
    "my_shape = Shape(4, 5, 6)\n",
    "\n",
    "surface_area = my_shape.area()\n",
    "shape_volume = my_shape.volume()\n",
    "\n",
    "print(f\"Surface Area: {surface_area}\")\n",
    "print(f\"Volume: {shape_volume}\")\n"
   ]
  },
  {
   "cell_type": "markdown",
   "metadata": {},
   "source": [
    "Problem 7: Student Management Create a class representing a student with attributes like student ID, name, and grades. Implement methods to calculate the average grade and display student details."
   ]
  },
  {
   "cell_type": "code",
   "execution_count": 22,
   "metadata": {},
   "outputs": [
    {
     "name": "stdout",
     "output_type": "stream",
     "text": [
      "Average Grade: 86.6\n",
      "Student Details:\n",
      "Student ID: 1\n",
      "Name: Alice\n",
      "Grades: 85, 92, 78, 90, 88\n"
     ]
    }
   ],
   "source": [
    "class Student:\n",
    "    def __init__(self, student_id, name, grades):\n",
    "        self.student_id = student_id\n",
    "        self.name = name\n",
    "        self.grades = grades\n",
    "\n",
    "    def average_grade(self):\n",
    "        if self.grades:\n",
    "            return sum(self.grades) / len(self.grades)\n",
    "        else:\n",
    "            return 0\n",
    "\n",
    "    def display_details(self):\n",
    "        return f\"Student ID: {self.student_id}\\nName: {self.name}\\nGrades: {', '.join(map(str, self.grades))}\"\n",
    "\n",
    "student1 = Student(1, \"Alice\", [85, 92, 78, 90, 88])\n",
    "\n",
    "average = student1.average_grade()\n",
    "details = student1.display_details()\n",
    "\n",
    "print(f\"Average Grade: {average}\")\n",
    "print(\"Student Details:\")\n",
    "print(details)\n"
   ]
  },
  {
   "cell_type": "markdown",
   "metadata": {},
   "source": [
    "Problem 8: Email Management Create a class representing an email with attributes like sender, recipient, and subject. Implement methods to send an email and display email details."
   ]
  },
  {
   "cell_type": "code",
   "execution_count": 23,
   "metadata": {},
   "outputs": [
    {
     "name": "stdout",
     "output_type": "stream",
     "text": [
      "Email sent successfully.\n",
      "Email Details:\n",
      "Sender: you@example.com\n",
      "Recipient: friend@example.com\n",
      "Subject: Hello\n",
      "Sent: True\n"
     ]
    }
   ],
   "source": [
    "class Email:\n",
    "    def __init__(self, sender, recipient, subject):\n",
    "        self.sender = sender\n",
    "        self.recipient = recipient\n",
    "        self.subject = subject\n",
    "        self.sent = False\n",
    "\n",
    "    def send_email(self):\n",
    "        self.sent = True\n",
    "        return \"Email sent successfully.\"\n",
    "\n",
    "    def display_details(self):\n",
    "        return f\"Sender: {self.sender}\\nRecipient: {self.recipient}\\nSubject: {self.subject}\\nSent: {self.sent}\"\n",
    "\n",
    "email1 = Email(\"you@example.com\", \"friend@example.com\", \"Hello\")\n",
    "\n",
    "send_result = email1.send_email()\n",
    "email_details = email1.display_details()\n",
    "print(send_result)\n",
    "print(\"Email Details:\")\n",
    "print(email_details)\n"
   ]
  },
  {
   "cell_type": "markdown",
   "metadata": {},
   "source": [
    "Problem 9: Social Media Profile Create a class representing a social media profile with attributes like username and posts. Implement methods to add posts, display posts, and search for posts by keyword."
   ]
  },
  {
   "cell_type": "code",
   "execution_count": 24,
   "metadata": {},
   "outputs": [
    {
     "name": "stdout",
     "output_type": "stream",
     "text": [
      "User123's Posts:\n",
      "I had a great day at the beach!\n",
      "Trying out a new recipe for dinner.\n",
      "Search Results:\n",
      "I had a great day at the beach!\n"
     ]
    }
   ],
   "source": [
    "class SocialMediaProfile:\n",
    "    def __init__(self, username):\n",
    "        self.username = username\n",
    "        self.posts = []\n",
    "\n",
    "    def add_post(self, post):\n",
    "        self.posts.append(post)\n",
    "\n",
    "    def display_posts(self):\n",
    "        if self.posts:\n",
    "            return \"\\n\".join(self.posts)\n",
    "        else:\n",
    "            return f\"{self.username} has no posts yet.\"\n",
    "\n",
    "    def search_posts(self, keyword):\n",
    "        matching_posts = [post for post in self.posts if keyword in post]\n",
    "        if matching_posts:\n",
    "            return \"\\n\".join(matching_posts)\n",
    "        else:\n",
    "            return f\"No posts containing '{keyword}' found.\"\n",
    "\n",
    "profile = SocialMediaProfile(\"User123\")\n",
    "\n",
    "profile.add_post(\"I had a great day at the beach!\")\n",
    "profile.add_post(\"Trying out a new recipe for dinner.\")\n",
    "\n",
    "all_posts = profile.display_posts()\n",
    "print(f\"{profile.username}'s Posts:\")\n",
    "print(all_posts)\n",
    "\n",
    "search_result = profile.search_posts(\"beach\")\n",
    "print(\"Search Results:\")\n",
    "print(search_result)\n"
   ]
  },
  {
   "cell_type": "markdown",
   "metadata": {},
   "source": [
    "Problem 10: ToDo List Create a class representing a ToDo list with attributes like tasks and due dates. Implement methods to add tasks, mark tasks as completed, and display pending tasks."
   ]
  },
  {
   "cell_type": "code",
   "execution_count": 15,
   "metadata": {},
   "outputs": [
    {
     "name": "stdout",
     "output_type": "stream",
     "text": [
      "Task 'Buy groceries' marked as completed.\n",
      "Pending Tasks:\n",
      "Complete homework (Due: 2023-11-15)\n",
      "Call mom (Due: 2023-11-20)\n"
     ]
    }
   ],
   "source": [
    "class ToDoList:\n",
    "    def __init__(self):\n",
    "        self.tasks = []\n",
    "\n",
    "    def add_task(self, task, due_date):\n",
    "        self.tasks.append({\"task\": task, \"due_date\": due_date, \"completed\": False})\n",
    "\n",
    "    def mark_task_as_completed(self, task_name):\n",
    "        for task in self.tasks:\n",
    "            if task[\"task\"] == task_name:\n",
    "                task[\"completed\"] = True\n",
    "                return f\"Task '{task_name}' marked as completed.\"\n",
    "        return f\"Task '{task_name}' not found in the list.\"\n",
    "\n",
    "    def display_pending_tasks(self):\n",
    "        pending_tasks = [task for task in self.tasks if not task[\"completed\"]]\n",
    "        if pending_tasks:\n",
    "            return \"Pending Tasks:\\n\" + \"\\n\".join(f\"{task['task']} (Due: {task['due_date']})\" for task in pending_tasks)\n",
    "        else:\n",
    "            return \"No pending tasks in the list.\"\n",
    "\n",
    "to_do_list = ToDoList()\n",
    "\n",
    "to_do_list.add_task(\"Buy groceries\", \"2023-11-10\")\n",
    "to_do_list.add_task(\"Complete homework\", \"2023-11-15\")\n",
    "to_do_list.add_task(\"Call mom\", \"2023-11-20\")\n",
    "\n",
    "completed_task_result = to_do_list.mark_task_as_completed(\"Buy groceries\")\n",
    "print(completed_task_result)\n",
    "\n",
    "pending_tasks = to_do_list.display_pending_tasks()\n",
    "print(pending_tasks)\n"
   ]
  }
 ],
 "metadata": {
  "kernelspec": {
   "display_name": "Python 3",
   "language": "python",
   "name": "python3"
  },
  "language_info": {
   "codemirror_mode": {
    "name": "ipython",
    "version": 3
   },
   "file_extension": ".py",
   "mimetype": "text/x-python",
   "name": "python",
   "nbconvert_exporter": "python",
   "pygments_lexer": "ipython3",
   "version": "3.12.0"
  }
 },
 "nbformat": 4,
 "nbformat_minor": 2
}
