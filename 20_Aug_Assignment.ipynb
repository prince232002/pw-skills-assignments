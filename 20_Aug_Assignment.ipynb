{
 "cells": [
  {
   "attachments": {},
   "cell_type": "markdown",
   "metadata": {},
   "source": [
    "## TOPIC: String Based Assignment Problem"
   ]
  },
  {
   "attachments": {},
   "cell_type": "markdown",
   "metadata": {},
   "source": [
    "### 1. Write a program to reverse a string."
   ]
  },
  {
   "cell_type": "code",
   "execution_count": 12,
   "metadata": {},
   "outputs": [
    {
     "name": "stdout",
     "output_type": "stream",
     "text": [
      "reversed string: olleh\n",
      "<reversed object at 0x000002D2867D26B0>\n"
     ]
    }
   ],
   "source": [
    "a = \"hello\"\n",
    "print(\"reversed string:\",a[::-1])\n",
    "print(reversed(a))\n",
    "# also can use ''.join(reversed(a))"
   ]
  },
  {
   "attachments": {},
   "cell_type": "markdown",
   "metadata": {},
   "source": [
    "### 2. Check if a string is a palindrome."
   ]
  },
  {
   "cell_type": "code",
   "execution_count": 27,
   "metadata": {},
   "outputs": [
    {
     "name": "stdout",
     "output_type": "stream",
     "text": [
      "you entered:  wow\n",
      "wow is palindrome\n"
     ]
    }
   ],
   "source": [
    "s= input(\"enter the string: \")\n",
    "print(\"you entered: \",s)\n",
    "clean=s.replace(' ','').lower()\n",
    "#print(f\"you entered: {s}\")\n",
    "if clean == clean[::-1]:\n",
    "    print(s,\"is palindrome\")\n",
    "else:\n",
    "    print(s,\" is not a palindrome\")"
   ]
  },
  {
   "attachments": {},
   "cell_type": "markdown",
   "metadata": {},
   "source": [
    "### 3. Convert a string to uppercase."
   ]
  },
  {
   "cell_type": "code",
   "execution_count": 2,
   "metadata": {},
   "outputs": [
    {
     "name": "stdout",
     "output_type": "stream",
     "text": [
      "you entered: mom\n",
      "your string in uppercase :  MOM\n"
     ]
    }
   ],
   "source": [
    "s1 = input(\"enter the string\")\n",
    "new_s1 =s1.upper()\n",
    "print(f\"you entered: {s1}\")\n",
    "print(\"your string in uppercase : \",new_s1)"
   ]
  },
  {
   "attachments": {},
   "cell_type": "markdown",
   "metadata": {},
   "source": [
    "### 4. Convert a string to lowercase."
   ]
  },
  {
   "cell_type": "code",
   "execution_count": 98,
   "metadata": {},
   "outputs": [
    {
     "name": "stdout",
     "output_type": "stream",
     "text": [
      "you entered: HELLO\n",
      "your string in uppercase :  hello\n"
     ]
    }
   ],
   "source": [
    "s1 = input(\"enter the string\")\n",
    "new_s1 = s1.lower()\n",
    "print(f\"you entered: {s1}\")\n",
    "print(\"your string in uppercase : \",new_s1)"
   ]
  },
  {
   "attachments": {},
   "cell_type": "markdown",
   "metadata": {},
   "source": [
    "### 5. Count the number of vowels in a string.\n"
   ]
  },
  {
   "cell_type": "code",
   "execution_count": 51,
   "metadata": {},
   "outputs": [
    {
     "name": "stdout",
     "output_type": "stream",
     "text": [
      "you entered : hello\n",
      "Number of vowels: 2\n"
     ]
    }
   ],
   "source": [
    "def count_vowels(string):\n",
    "    vowels = \"aeiouAEIOU\"\n",
    "    count = 0\n",
    "    for char in string:\n",
    "        if char in vowels:\n",
    "            count += 1\n",
    "    return count\n",
    "\n",
    "input_string = input(\"Enter a string: \")\n",
    "print(\"you entered :\",input_string)\n",
    "result = count_vowels(input_string)\n",
    "print(\"Number of vowels:\", result)"
   ]
  },
  {
   "attachments": {},
   "cell_type": "markdown",
   "metadata": {},
   "source": [
    "### 6. Count the number of consonants in a string."
   ]
  },
  {
   "cell_type": "code",
   "execution_count": 50,
   "metadata": {},
   "outputs": [
    {
     "name": "stdout",
     "output_type": "stream",
     "text": [
      "Number of consonant: 3\n"
     ]
    }
   ],
   "source": [
    "def count_consonant(string):\n",
    "    vowels = \"aeiou\"\n",
    "    count = 0\n",
    "    for char in string:\n",
    "        char=char.lower()\n",
    "        if ('a'<= char <='z') and char not in vowels:\n",
    "            count += 1\n",
    "    return count\n",
    "\n",
    "input_string = \"aeiou_bcd_e\"\n",
    "result = count_consonant(input_string)\n",
    "print(\"Number of consonant:\", result)\n"
   ]
  },
  {
   "attachments": {},
   "cell_type": "markdown",
   "metadata": {},
   "source": [
    "### 7. Remove all whitespaces from a string.\n"
   ]
  },
  {
   "cell_type": "code",
   "execution_count": 87,
   "metadata": {},
   "outputs": [
    {
     "name": "stdout",
     "output_type": "stream",
     "text": [
      "without whitespaces your string :\n",
      "'hello'\n"
     ]
    }
   ],
   "source": [
    "def strip(s1):\n",
    "    res=\"\"\n",
    "    for i in s1:\n",
    "        if i!=\" \":\n",
    "            res+=i\n",
    "    return res \n",
    "s1= \"   hello           \"\n",
    "print(f\"without whitespaces your string :\\n'{strip(s1)}'\")\n"
   ]
  },
  {
   "cell_type": "markdown",
   "metadata": {},
   "source": [
    "### 8. Find the length of a string without using the `len()` functioM"
   ]
  },
  {
   "cell_type": "code",
   "execution_count": 29,
   "metadata": {},
   "outputs": [
    {
     "name": "stdout",
     "output_type": "stream",
     "text": [
      "you entered:'fssfs fsf'\n",
      "string  length: 9\n"
     ]
    }
   ],
   "source": [
    "def len(s2):\n",
    "    cnt=0\n",
    "    for i in s2:\n",
    "        cnt+=1\n",
    "    print(\"string  length:\",cnt)\n",
    "s2=input(\"enter the  string :\")\n",
    "print(f\"you entered:'{s2}'\")\n",
    "len(s2)"
   ]
  },
  {
   "cell_type": "markdown",
   "metadata": {},
   "source": [
    "### 9. Check if a string contains a specific word."
   ]
  },
  {
   "cell_type": "code",
   "execution_count": 43,
   "metadata": {},
   "outputs": [
    {
     "name": "stdout",
     "output_type": "stream",
     "text": [
      "you entered : helo ji ,word: ji\n"
     ]
    },
    {
     "data": {
      "text/plain": [
       "'\"ji\" found'"
      ]
     },
     "execution_count": 43,
     "metadata": {},
     "output_type": "execute_result"
    }
   ],
   "source": [
    "def check(str,word):\n",
    "    if word in str:\n",
    "        return f'\"{word}\" found'\n",
    "    return f'\"{word}\"not found\"'\n",
    "str=input(\"enter string: \")\n",
    "word= input(\"enter the word to check\")\n",
    "print(\"you entered :\",str,\",word:\",word)\n",
    "check(str,word)\n"
   ]
  },
  {
   "cell_type": "markdown",
   "metadata": {},
   "source": [
    "### 10. Replace a word in a string with another word."
   ]
  },
  {
   "cell_type": "code",
   "execution_count": 47,
   "metadata": {},
   "outputs": [
    {
     "name": "stdout",
     "output_type": "stream",
     "text": [
      "helo  dear friend\n",
      "helo  my friend\n"
     ]
    }
   ],
   "source": [
    "input_string= input(\"enter the string\")\n",
    "word=input(\"enter word to replaced :\")\n",
    "new_word=input(\"enter new word: \")\n",
    "modified_string=input_string.replace(word,new_word)\n",
    "print(input_string)\n",
    "print(modified_string)"
   ]
  },
  {
   "cell_type": "markdown",
   "metadata": {},
   "source": [
    "### 11. Count the occurrences of a word in a string.\n"
   ]
  },
  {
   "cell_type": "code",
   "execution_count": 56,
   "metadata": {},
   "outputs": [
    {
     "name": "stdout",
     "output_type": "stream",
     "text": [
      "occurance of 'j' is 0 times in your string \n"
     ]
    }
   ],
   "source": [
    "def count(str,word):\n",
    "    cnt=0\n",
    "    words=str.split()\n",
    "    for i in words:\n",
    "        if i==word:\n",
    "            cnt+=1\n",
    "    return cnt\n",
    "input_string= \"helo ji kaise hai ji\"\n",
    "word=\"ji\"\n",
    "occ=count(input_string,word)\n",
    "print(f\"occurance of '{word}' is {occ} times in your string \")\n"
   ]
  },
  {
   "cell_type": "markdown",
   "metadata": {},
   "source": [
    "### 12. Find the first occurrence of a word in a string."
   ]
  },
  {
   "cell_type": "code",
   "execution_count": 12,
   "metadata": {},
   "outputs": [
    {
     "data": {
      "text/plain": [
       "'Found at 0'"
      ]
     },
     "execution_count": 12,
     "metadata": {},
     "output_type": "execute_result"
    }
   ],
   "source": [
    "def first_occ(str, word):\n",
    "    index=str.find(word)\n",
    "    if index==-1:\n",
    "        return f\"Not found\"\n",
    "    return f\"Found at {index}\"\n",
    "input_string= \"helo friend how are you?\"\n",
    "word=\"helo\"\n",
    "first_occ(input_string,word)"
   ]
  },
  {
   "attachments": {},
   "cell_type": "markdown",
   "metadata": {},
   "source": [
    "### 13. Find the last occurrence of a word in a string."
   ]
  },
  {
   "cell_type": "code",
   "execution_count": 16,
   "metadata": {},
   "outputs": [
    {
     "data": {
      "text/plain": [
       "'Found at 24'"
      ]
     },
     "execution_count": 16,
     "metadata": {},
     "output_type": "execute_result"
    }
   ],
   "source": [
    "def last_occ(str, word):\n",
    "    index=str.rfind(word)\n",
    "    if index==-1:\n",
    "        return f\"Not found\"\n",
    "    return f\"Found at {index}\"\n",
    "input_string= \"helo friend how are you friend?\"\n",
    "word=\"friend\"\n",
    "last_occ(input_string,word)"
   ]
  },
  {
   "cell_type": "markdown",
   "metadata": {},
   "source": [
    "### 14. Split a string into a list of words."
   ]
  },
  {
   "cell_type": "code",
   "execution_count": 19,
   "metadata": {},
   "outputs": [
    {
     "name": "stdout",
     "output_type": "stream",
     "text": [
      "list of words : ['i', 'am', 'very', 'happy']\n"
     ]
    }
   ],
   "source": [
    "def str_list(str):\n",
    "    l=str.split(\" \")\n",
    "    return l\n",
    "input_string=\"i am very happy\"\n",
    "words = str_list(input_string)\n",
    "print(f\"list of words : {words}\")\n"
   ]
  },
  {
   "cell_type": "markdown",
   "metadata": {},
   "source": [
    "### 15. Join a list of words into a string."
   ]
  },
  {
   "cell_type": "code",
   "execution_count": 21,
   "metadata": {},
   "outputs": [
    {
     "data": {
      "text/plain": [
       "'I am very happy'"
      ]
     },
     "execution_count": 21,
     "metadata": {},
     "output_type": "execute_result"
    }
   ],
   "source": [
    "def join_words(words):\n",
    "    str=\" \".join(words)\n",
    "    return str\n",
    "words=['I', 'am', 'very', 'happy']\n",
    "join_words(words)"
   ]
  },
  {
   "cell_type": "markdown",
   "metadata": {},
   "source": [
    "### 16. Convert a string where words are separated by spaces to one where words are separated by underscores."
   ]
  },
  {
   "cell_type": "code",
   "execution_count": 22,
   "metadata": {},
   "outputs": [
    {
     "data": {
      "text/plain": [
       "'today_is_a_beautiful_day'"
      ]
     },
     "execution_count": 22,
     "metadata": {},
     "output_type": "execute_result"
    }
   ],
   "source": [
    "def convert(str):\n",
    "    new_str = str.replace(\" \",\"_\")\n",
    "    return new_str\n",
    "str = \"today is a beautiful day\"\n",
    "convert(str)"
   ]
  },
  {
   "cell_type": "markdown",
   "metadata": {},
   "source": [
    "### 17. Check if a string starts with a specific word or phrase."
   ]
  },
  {
   "cell_type": "code",
   "execution_count": 25,
   "metadata": {},
   "outputs": [
    {
     "name": "stdout",
     "output_type": "stream",
     "text": [
      "Yes your string start with helo\n"
     ]
    }
   ],
   "source": [
    "def starting(str,word):\n",
    "    i = str.startswith(word)\n",
    "    return i \n",
    "str = \"hello everyone how are you\"\n",
    "word= \"helo\"\n",
    "if starting(str,word):\n",
    "    print(f\"Yes your string start with {word}\")\n",
    "else:\n",
    "    print(f\"No your string start with {word}\")\n"
   ]
  },
  {
   "cell_type": "markdown",
   "metadata": {},
   "source": [
    "### 18. Check if a string ends with a specific word or phrase."
   ]
  },
  {
   "cell_type": "code",
   "execution_count": 29,
   "metadata": {},
   "outputs": [
    {
     "name": "stdout",
     "output_type": "stream",
     "text": [
      "No your string start with '  are you'\n"
     ]
    }
   ],
   "source": [
    "def end_with(str,word):\n",
    "    i = str.endswith(word)\n",
    "    return i \n",
    "str = \"hello everyone how are you\"\n",
    "word= \"are you\"\n",
    "if end_with(str,word):\n",
    "    print(f\"Yes your string start with '{word}'\")\n",
    "else:\n",
    "    print(f\"No your string start with '{word}'\")\n"
   ]
  },
  {
   "cell_type": "markdown",
   "metadata": {},
   "source": [
    "### 20. Find the longest word in a string."
   ]
  },
  {
   "cell_type": "code",
   "execution_count": 62,
   "metadata": {},
   "outputs": [
    {
     "name": "stdout",
     "output_type": "stream",
     "text": [
      "longest word : ''\n"
     ]
    }
   ],
   "source": [
    "def long_word(str):\n",
    "    cnt,max=0,0\n",
    "    word=\"\"\n",
    "    words=str.split(' ')\n",
    "    for i in words:\n",
    "        cnt=len(i)\n",
    "        if cnt > max:\n",
    "            max=cnt\n",
    "            word=i\n",
    "    return word\n",
    "#str= \"once upon a time in delhi and mumbai too\"\n",
    "str1=\"\"\n",
    "print(f\"longest word : '{long_word(str1)}'\")"
   ]
  },
  {
   "cell_type": "markdown",
   "metadata": {},
   "source": [
    "### 21. Find the shortest word in a string."
   ]
  },
  {
   "cell_type": "code",
   "execution_count": 74,
   "metadata": {},
   "outputs": [
    {
     "name": "stdout",
     "output_type": "stream",
     "text": [
      "shortest word : 'a'\n"
     ]
    }
   ],
   "source": [
    "def short_word(str):\n",
    "    cnt=0\n",
    "    min=float('inf')\n",
    "    word=\"\"\n",
    "    words=str.split(' ')\n",
    "    for i in words:\n",
    "        cnt=len(i)\n",
    "        if cnt < min:\n",
    "            min=cnt\n",
    "            word=i\n",
    "    return word\n",
    "str= \"once upon a time in delhi and mumbai too\"\n",
    "print(f\"shortest word : '{short_word(str)}'\")"
   ]
  },
  {
   "cell_type": "markdown",
   "metadata": {},
   "source": [
    "### 22. Reverse the order of words in a string."
   ]
  },
  {
   "cell_type": "code",
   "execution_count": 75,
   "metadata": {},
   "outputs": [
    {
     "data": {
      "text/plain": [
       "'how are you'"
      ]
     },
     "execution_count": 75,
     "metadata": {},
     "output_type": "execute_result"
    }
   ],
   "source": [
    "def reverse(str):\n",
    "    words = str.split(\" \")\n",
    "    new = ' '.join(reversed(words))\n",
    "    return new \n",
    "str=\"you are how\"\n",
    "reverse(str)\n"
   ]
  },
  {
   "cell_type": "markdown",
   "metadata": {},
   "source": [
    "### 23. Check if a string is alphanumeric."
   ]
  },
  {
   "cell_type": "code",
   "execution_count": 6,
   "metadata": {},
   "outputs": [
    {
     "name": "stdout",
     "output_type": "stream",
     "text": [
      "The string is alphanumeric.\n"
     ]
    }
   ],
   "source": [
    "def is_alphanumeric(text):\n",
    "    # Step 1: Use the isalnum() method to check if the string is alphanumeric.\n",
    "    return text.isalnum()               \n",
    "\n",
    "# Example usage\n",
    "text = \"Hello123\"\n",
    "result = is_alphanumeric(text)\n",
    "if result:\n",
    "    print(\"The string is alphanumeric.\")\n",
    "else:\n",
    "    print(\"The string is not alphanumeric.\")"
   ]
  },
  {
   "cell_type": "code",
   "execution_count": 6,
   "metadata": {},
   "outputs": [
    {
     "data": {
      "text/plain": [
       "'fsf323s is alphanumeric'"
      ]
     },
     "execution_count": 6,
     "metadata": {},
     "output_type": "execute_result"
    }
   ],
   "source": [
    "def is_alphanumeric(str):\n",
    "    if str.isalnum():\n",
    "        return f\"{str} is alphanumeric\"\n",
    "    return  f\"{str} is not alphanumeric\"\n",
    "str= \"fsf323s\"\n",
    "is_alphanumeric(str)"
   ]
  },
  {
   "attachments": {},
   "cell_type": "markdown",
   "metadata": {},
   "source": [
    "### 24. Extract all digits from a string."
   ]
  },
  {
   "cell_type": "code",
   "execution_count": 11,
   "metadata": {},
   "outputs": [
    {
     "data": {
      "text/plain": [
       "'extracted digits: 3354'"
      ]
     },
     "execution_count": 11,
     "metadata": {},
     "output_type": "execute_result"
    }
   ],
   "source": [
    "def extract_dig(str):\n",
    "    digit=\"\"\n",
    "    for i in str:\n",
    "        if i.isdigit():\n",
    "            digit+=i\n",
    "    return f\"extracted digits: {digit}\"\n",
    "str=\"sfsf33sfs54\"\n",
    "extract_dig(str)\n"
   ]
  },
  {
   "attachments": {},
   "cell_type": "markdown",
   "metadata": {},
   "source": [
    "### 25. Extract all alphabets from a string."
   ]
  },
  {
   "cell_type": "code",
   "execution_count": 14,
   "metadata": {},
   "outputs": [
    {
     "data": {
      "text/plain": [
       "'extracted alphabet: sfsfsfs'"
      ]
     },
     "execution_count": 14,
     "metadata": {},
     "output_type": "execute_result"
    }
   ],
   "source": [
    "def extract_alpha(str):\n",
    "    digit=\"\"\n",
    "    for i in str:\n",
    "        if i.isalpha():\n",
    "            digit+=i\n",
    "    return f\"extracted alphabet: {digit}\"\n",
    "str=\"sfsf33sfs54\"\n",
    "extract_alpha(str)\n"
   ]
  },
  {
   "attachments": {},
   "cell_type": "markdown",
   "metadata": {},
   "source": [
    "### 26. Count the number of uppercase letters in a string."
   ]
  },
  {
   "cell_type": "code",
   "execution_count": 19,
   "metadata": {},
   "outputs": [
    {
     "name": "stdout",
     "output_type": "stream",
     "text": [
      "4\n"
     ]
    }
   ],
   "source": [
    "def count_uppercase(str):\n",
    "    upper_cnt = sum(1 for char in str if char.isupper())\n",
    "    return upper_cnt\n",
    "\n",
    "string = \"fsfsfsGDGD\"\n",
    "result = count_uppercase(string)\n",
    "print(result)"
   ]
  },
  {
   "attachments": {},
   "cell_type": "markdown",
   "metadata": {},
   "source": [
    "### 27. Count the number of lowercase letters in a string."
   ]
  },
  {
   "cell_type": "code",
   "execution_count": 22,
   "metadata": {},
   "outputs": [
    {
     "name": "stdout",
     "output_type": "stream",
     "text": [
      "6\n"
     ]
    }
   ],
   "source": [
    "def count_lowercase(str):\n",
    "    lower_cnt = sum(1 for char in str if char.islower())\n",
    "    return lower_cnt\n",
    "\n",
    "string = \"fsfsfsGDGD\"\n",
    "result = count_lowercase(string)\n",
    "print(result)"
   ]
  },
  {
   "attachments": {},
   "cell_type": "markdown",
   "metadata": {},
   "source": [
    "### 28. Swap the case of each character in a string."
   ]
  },
  {
   "cell_type": "code",
   "execution_count": 23,
   "metadata": {},
   "outputs": [
    {
     "data": {
      "text/plain": [
       "'FSFSfsfs'"
      ]
     },
     "execution_count": 23,
     "metadata": {},
     "output_type": "execute_result"
    }
   ],
   "source": [
    "def swap_case(str):\n",
    "    swap_str = str.swapcase()\n",
    "    return swap_str\n",
    "str = \"fsfsFSFS\"\n",
    "swap_case(str)"
   ]
  },
  {
   "attachments": {},
   "cell_type": "markdown",
   "metadata": {},
   "source": [
    "### 29. Remove a specific word from a string."
   ]
  },
  {
   "cell_type": "code",
   "execution_count": 32,
   "metadata": {},
   "outputs": [
    {
     "name": "stdout",
     "output_type": "stream",
     "text": [
      "Hello how are you.\n"
     ]
    }
   ],
   "source": [
    "def remove_word(string, remove):\n",
    "    words = string.split()  \n",
    "    new_words = [word for word in words if word != remove]\n",
    "    new_str = ' '.join(new_words)  \n",
    "    return new_str\n",
    "\n",
    "string = \"Hello ji how are you.\"\n",
    "remove = \"ji\"\n",
    "result = remove_word(string, remove)\n",
    "print(result)"
   ]
  },
  {
   "attachments": {},
   "cell_type": "markdown",
   "metadata": {},
   "source": [
    "### 30. Check if a string is a valid email address."
   ]
  },
  {
   "cell_type": "code",
   "execution_count": 1,
   "metadata": {},
   "outputs": [
    {
     "name": "stdout",
     "output_type": "stream",
     "text": [
      "True\n",
      "False\n"
     ]
    }
   ],
   "source": [
    "import re  \n",
    "\n",
    "def is_valid_email(email):\n",
    "    pattern = r'^[\\w\\.-]+@[\\w\\.-]+\\.\\w+$'  \n",
    "    if re.match(pattern, email):\n",
    "        return True\n",
    "    else:\n",
    "        return False\n",
    "\n",
    "# Example email addresses\n",
    "email1 = \"abc@email.com\"\n",
    "email2 = \"_@gmail.\"\n",
    "result1 = is_valid_email(email1)\n",
    "result2 = is_valid_email(email2)\n",
    "print(result1)\n",
    "print(result2)"
   ]
  },
  {
   "attachments": {},
   "cell_type": "markdown",
   "metadata": {},
   "source": [
    "### 31. Extract the username from an email address string."
   ]
  },
  {
   "cell_type": "code",
   "execution_count": 22,
   "metadata": {},
   "outputs": [
    {
     "data": {
      "text/plain": [
       "'abc'"
      ]
     },
     "execution_count": 22,
     "metadata": {},
     "output_type": "execute_result"
    }
   ],
   "source": [
    "def username(email):\n",
    "    user=email.split('@')[0]\n",
    "    return user\n",
    "email=\"abc@gmail.com\" \n",
    "username(email)"
   ]
  },
  {
   "attachments": {},
   "cell_type": "markdown",
   "metadata": {},
   "source": [
    "### 32. Extract the domain name from an email address string."
   ]
  },
  {
   "cell_type": "code",
   "execution_count": 24,
   "metadata": {},
   "outputs": [
    {
     "data": {
      "text/plain": [
       "'gmail.com'"
      ]
     },
     "execution_count": 24,
     "metadata": {},
     "output_type": "execute_result"
    }
   ],
   "source": [
    "def domain(email):\n",
    "    dom=email.split('@')[1]\n",
    "    return dom \n",
    "email=\"abc@gmail.com\"\n",
    "domain(email)"
   ]
  },
  {
   "attachments": {},
   "cell_type": "markdown",
   "metadata": {},
   "source": [
    "### 33. Replace multiple spaces in a string with a single space."
   ]
  },
  {
   "cell_type": "code",
   "execution_count": 2,
   "metadata": {
    "slideshow": {
     "slide_type": "slide"
    }
   },
   "outputs": [
    {
     "data": {
      "text/plain": [
       "['helo', 'how', 'are', 'u?']"
      ]
     },
     "execution_count": 2,
     "metadata": {},
     "output_type": "execute_result"
    }
   ],
   "source": [
    "def replace_multi_single(input):\n",
    "    new= ' '.join(input.split())\n",
    "    return new\n",
    "input=\"helo   how  are    u?\"\n",
    "replace_multi_single(input)\n"
   ]
  },
  {
   "attachments": {},
   "cell_type": "markdown",
   "metadata": {},
   "source": [
    "### 34. Check if a string is a valid URL."
   ]
  },
  {
   "cell_type": "code",
   "execution_count": null,
   "metadata": {},
   "outputs": [],
   "source": [
    "from urllib.parse import urlparse\n",
    "\n",
    "def is_valid(url):\n",
    "    try:\n",
    "        result = urlparse(url)\n",
    "        return all([result.scheme, result.netloc])  \n",
    "    except ValueError:\n",
    "        return False\n",
    "url1 = \"https://www.example.com\"\n",
    "url2 = \"invalid-url\"\n",
    "result1 = is_valid(url1)\n",
    "result2 = is_valid(url2)\n",
    "print(result1) \n",
    "print(result2)"
   ]
  },
  {
   "attachments": {},
   "cell_type": "markdown",
   "metadata": {},
   "source": [
    "### 35. Extract the protocol (http or https) from a URL string."
   ]
  },
  {
   "cell_type": "code",
   "execution_count": 21,
   "metadata": {},
   "outputs": [
    {
     "name": "stdout",
     "output_type": "stream",
     "text": [
      "https\n",
      "http\n"
     ]
    }
   ],
   "source": [
    "def extract(url):\n",
    "    if '://' in url:\n",
    "        protocal=url.split('://',1)[0]\n",
    "        return protocal \n",
    "    return None \n",
    "url1=\"https://www.google..com\"\n",
    "url2=\"http://www.google.com\"\n",
    "print(extract(url1))\n",
    "print(extract(url2))"
   ]
  },
  {
   "attachments": {},
   "cell_type": "markdown",
   "metadata": {},
   "source": [
    "### 36. Find the frequency of each character in a string."
   ]
  },
  {
   "cell_type": "code",
   "execution_count": 36,
   "metadata": {},
   "outputs": [
    {
     "name": "stdout",
     "output_type": "stream",
     "text": [
      "char:'h', frequency:1\n",
      "char:'e', frequency:4\n",
      "char:'l', frequency:2\n",
      "char:'o', frequency:2\n",
      "char:' ', frequency:1\n",
      "char:'v', frequency:1\n",
      "char:'r', frequency:1\n",
      "char:'y', frequency:1\n",
      "char:'n', frequency:1\n"
     ]
    }
   ],
   "source": [
    "def freq_char(string):\n",
    "    freq= {}\n",
    "    for i in string:\n",
    "        if i in freq:\n",
    "            freq[i]+=1\n",
    "        else:\n",
    "            freq[i]=1\n",
    "    return freq\n",
    "string=\"hello everyone\"\n",
    "letter=freq_char(string)\n",
    "for letter,occurance in letter.items():\n",
    "    print(f\"char:'{letter}', frequency:{occurance}\")"
   ]
  },
  {
   "attachments": {},
   "cell_type": "markdown",
   "metadata": {},
   "source": [
    "### 37. Remove all punctuation from a string."
   ]
  },
  {
   "cell_type": "code",
   "execution_count": 41,
   "metadata": {},
   "outputs": [
    {
     "data": {
      "text/plain": [
       "'helo how are you ?'"
      ]
     },
     "execution_count": 41,
     "metadata": {},
     "output_type": "execute_result"
    }
   ],
   "source": [
    "def remove(string):\n",
    "    new = string.replace('.','')\n",
    "    return new\n",
    "string=\"helo. how. are. you ?\"\n",
    "remove(string)"
   ]
  },
  {
   "attachments": {},
   "cell_type": "markdown",
   "metadata": {},
   "source": [
    "### 38. Check if a string contains only digits."
   ]
  },
  {
   "cell_type": "code",
   "execution_count": 43,
   "metadata": {},
   "outputs": [
    {
     "data": {
      "text/plain": [
       "'not only digit'"
      ]
     },
     "execution_count": 43,
     "metadata": {},
     "output_type": "execute_result"
    }
   ],
   "source": [
    "def check_only_dig(str):\n",
    "    if str.isdigit():\n",
    "        return f\"your string has only digit\"\n",
    "    return f\"not only digit\"\n",
    "str=\"3433334\"\n",
    "check_only_dig(str)"
   ]
  },
  {
   "attachments": {},
   "cell_type": "markdown",
   "metadata": {},
   "source": [
    "### 39. Check if a string contains only alphabets."
   ]
  },
  {
   "cell_type": "code",
   "execution_count": 50,
   "metadata": {},
   "outputs": [
    {
     "name": "stdout",
     "output_type": "stream",
     "text": [
      "only alphabet\n",
      "not only alphabet\n"
     ]
    }
   ],
   "source": [
    "def contain_only_alpha(str):\n",
    "    if str.isalpha():\n",
    "        return f\"only alphabet\"\n",
    "    return \"not only alphabet\"\n",
    "str1=\"gjg\"\n",
    "str2=\"fsfs3655\"\n",
    "a=contain_only_alpha(str1)\n",
    "b=contain_only_alpha(str2)\n",
    "print(a)\n",
    "print(b)"
   ]
  },
  {
   "attachments": {},
   "cell_type": "markdown",
   "metadata": {},
   "source": [
    "### 40. Convert a string to a list of characters."
   ]
  },
  {
   "cell_type": "code",
   "execution_count": 56,
   "metadata": {},
   "outputs": [
    {
     "data": {
      "text/plain": [
       "['h', 'e', 'l', 'l', 'o']"
      ]
     },
     "execution_count": 56,
     "metadata": {},
     "output_type": "execute_result"
    }
   ],
   "source": [
    "def listofChar(string):\n",
    "    char_list=list(string)\n",
    "    return char_list\n",
    "string=\"hello\"\n",
    "listofChar(string)"
   ]
  },
  {
   "cell_type": "markdown",
   "metadata": {},
   "source": [
    "### 41. Check if two strings are anagrams."
   ]
  },
  {
   "cell_type": "code",
   "execution_count": 59,
   "metadata": {},
   "outputs": [
    {
     "data": {
      "text/plain": [
       "True"
      ]
     },
     "execution_count": 59,
     "metadata": {},
     "output_type": "execute_result"
    }
   ],
   "source": [
    "def anagram(str1,str2):\n",
    "    str1= str1.replace(\" \", \"\").lower()\n",
    "    str2= str2.replace(\" \", \"\").lower()\n",
    "    return sorted(str1)==sorted(str2)\n",
    "str1=\"hello\"\n",
    "str2=\"elloh\"\n",
    "anagram(str1,str2)  \n",
    "    "
   ]
  },
  {
   "attachments": {},
   "cell_type": "markdown",
   "metadata": {},
   "source": [
    "### 42. Encode a string using a Caesar cipher."
   ]
  },
  {
   "cell_type": "code",
   "execution_count": 71,
   "metadata": {},
   "outputs": [
    {
     "name": "stdout",
     "output_type": "stream",
     "text": [
      "cde\n"
     ]
    }
   ],
   "source": [
    "def caesar_text(string,shift):\n",
    "    encoded = \"\"\n",
    "    for i in string:\n",
    "        if i.isalpha():\n",
    "            if i.islower():\n",
    "                encoded += chr(((ord(i) - ord('a') + shift) % 26) + ord('a'))\n",
    "            elif i.isupper():\n",
    "                encoded += chr(((ord(i) - ord('A') + shift) % 26) + ord('A'))\n",
    "        else:\n",
    "            encoded += i\n",
    "    return encoded\n",
    "string = \"abc\"\n",
    "shift=2\n",
    "encoded_string = caesar_text(string,shift)\n",
    "print(encoded_string)\n"
   ]
  },
  {
   "attachments": {},
   "cell_type": "markdown",
   "metadata": {},
   "source": [
    "### 43. Decode a Caesar cipher encoded string."
   ]
  },
  {
   "cell_type": "code",
   "execution_count": 76,
   "metadata": {},
   "outputs": [
    {
     "name": "stdout",
     "output_type": "stream",
     "text": [
      "bcd\n"
     ]
    }
   ],
   "source": [
    "def cipher_text(string,shift):\n",
    "    decoded = \"\"\n",
    "    for i in string:\n",
    "        if i.isalpha():\n",
    "            if i.islower():\n",
    "                decoded += chr(((ord(i) - ord('a') - shift) % 26) + ord('a'))\n",
    "            elif i.isupper():\n",
    "                decoded += chr(((ord(i) - ord('A') - shift) % 26) + ord('A'))\n",
    "        else:\n",
    "            dencoded += i\n",
    "    return decoded\n",
    "string = \"def\"\n",
    "shift=2\n",
    "decoded_string = cipher_text(string,shift)\n",
    "print(decoded_string)"
   ]
  },
  {
   "attachments": {},
   "cell_type": "markdown",
   "metadata": {},
   "source": [
    "### 44. Find the most frequent word in a string."
   ]
  },
  {
   "cell_type": "code",
   "execution_count": 2,
   "metadata": {},
   "outputs": [
    {
     "name": "stdout",
     "output_type": "stream",
     "text": [
      "The most frequent word is 'this' with a count of 2.\n"
     ]
    }
   ],
   "source": [
    "import re\n",
    "from collections import Counter\n",
    "\n",
    "def most_frequent_word(text):\n",
    "    words = re.findall(r'\\w+', text.lower())\n",
    "    word_counts = Counter(words)\n",
    "    most_common_word, most_common_count = word_counts.most_common(1)[0]\n",
    "    return most_common_word, most_common_count\n",
    "\n",
    "input_text = \"This is an example sentence. This sentence contains some example words.\"\n",
    "most_common_word, count = most_frequent_word(input_text)\n",
    "print(f\"The most frequent word is '{most_common_word}' with a count of {count}.\")\n"
   ]
  },
  {
   "attachments": {},
   "cell_type": "markdown",
   "metadata": {},
   "source": [
    "### 45. Find all unique words in a string."
   ]
  },
  {
   "cell_type": "code",
   "execution_count": 3,
   "metadata": {},
   "outputs": [
    {
     "name": "stdout",
     "output_type": "stream",
     "text": [
      "Unique words in the text:\n",
      "some\n",
      "sentence\n",
      "is\n",
      "this\n",
      "an\n",
      "words\n",
      "example\n",
      "contains\n"
     ]
    }
   ],
   "source": [
    "def unique_words(text):\n",
    "    words = text.lower().split()\n",
    "    unique_word_set = set()\n",
    "    for word in words:\n",
    "        word = ''.join(char for char in word if char.isalnum())\n",
    "        if word:\n",
    "            unique_word_set.add(word)\n",
    "    return unique_word_set\n",
    "\n",
    "input_text = \"This is an example sentence. This sentence contains some example words.\"\n",
    "unique_words_set = unique_words(input_text)\n",
    "\n",
    "print(\"Unique words in the text:\")\n",
    "for word in unique_words_set:\n",
    "    print(word)\n"
   ]
  },
  {
   "attachments": {},
   "cell_type": "markdown",
   "metadata": {},
   "source": [
    "### 46. Count the number of syllables in a string."
   ]
  },
  {
   "cell_type": "code",
   "execution_count": 4,
   "metadata": {},
   "outputs": [
    {
     "name": "stdout",
     "output_type": "stream",
     "text": [
      "The word 'syllable' has 1 syllables.\n"
     ]
    }
   ],
   "source": [
    "def count_syllables(word):\n",
    "    if word.endswith('e'):\n",
    "        word = word[:-1]\n",
    "    \n",
    "    vowels = \"AEIOUaeiou\"\n",
    "    syllables = 0\n",
    "    in_syllable = False\n",
    "\n",
    "    for char in word:\n",
    "        if char in vowels:\n",
    "            if not in_syllable:\n",
    "                syllables += 1\n",
    "                in_syllable = True\n",
    "        else:\n",
    "            in_syllable = False\n",
    "\n",
    "    if syllables == 0:\n",
    "        syllables = 1\n",
    "\n",
    "    return syllables\n",
    "\n",
    "word = \"syllable\"\n",
    "syllable_count = count_syllables(word)\n",
    "print(f\"The word '{word}' has {syllable_count} syllables.\")"
   ]
  },
  {
   "attachments": {},
   "cell_type": "markdown",
   "metadata": {},
   "source": [
    "### 47. Check if a string contains any special characters."
   ]
  },
  {
   "cell_type": "code",
   "execution_count": 5,
   "metadata": {},
   "outputs": [
    {
     "name": "stdout",
     "output_type": "stream",
     "text": [
      "The string does not contain special characters.\n"
     ]
    }
   ],
   "source": [
    "def has_special_chars(s):\n",
    "    for c in s:\n",
    "        if not c.isalnum():\n",
    "            return True\n",
    "    return False\n",
    "\n",
    "input_string = \"Hello123\"\n",
    "contains_special = has_special_chars(input_string)\n",
    "if contains_special:\n",
    "    print(\"The string contains special characters.\")\n",
    "else:\n",
    "    print(\"The string does not contain special characters.\")"
   ]
  },
  {
   "attachments": {},
   "cell_type": "markdown",
   "metadata": {},
   "source": [
    "### 48. Remove the nth word from a string."
   ]
  },
  {
   "cell_type": "code",
   "execution_count": 6,
   "metadata": {},
   "outputs": [
    {
     "name": "stdout",
     "output_type": "stream",
     "text": [
      "This is example sentence.\n"
     ]
    }
   ],
   "source": [
    "def remove_nth_word(input_string, n):\n",
    "    words = input_string.split()\n",
    "    if n >= 0 and n < len(words):\n",
    "        del words[n]\n",
    "        return ' '.join(words)\n",
    "    else:\n",
    "        return input_string\n",
    "\n",
    "input_string = \"This is an example sentence.\"\n",
    "n = 2  \n",
    "result_string = remove_nth_word(input_string, n)\n",
    "print(result_string)"
   ]
  },
  {
   "attachments": {},
   "cell_type": "markdown",
   "metadata": {},
   "source": [
    "### 49. Insert a word at the nth position in a string."
   ]
  },
  {
   "cell_type": "code",
   "execution_count": 11,
   "metadata": {},
   "outputs": [
    {
     "name": "stdout",
     "output_type": "stream",
     "text": [
      "This is new an example sentence.\n"
     ]
    }
   ],
   "source": [
    "def insert_word_at_nth_position(input_string, word_to_insert, n):\n",
    "    words = input_string.split()\n",
    "    if n >= 0 and n <= len(words):\n",
    "        words.insert(n, word_to_insert)\n",
    "        return ' '.join(words)\n",
    "    else:\n",
    "        return input_string\n",
    "input_string = \"This is an example sentence.\"\n",
    "word_to_insert = \"new\"\n",
    "n = 2  \n",
    "result_string = insert_word_at_nth_position(input_string, word_to_insert, n)\n",
    "print(result_string)\n"
   ]
  },
  {
   "attachments": {},
   "cell_type": "markdown",
   "metadata": {},
   "source": [
    "### 50. Convert a CSV string to a list of lists.\n"
   ]
  },
  {
   "cell_type": "code",
   "execution_count": 8,
   "metadata": {},
   "outputs": [
    {
     "name": "stdout",
     "output_type": "stream",
     "text": [
      "[['1', 'John', 'Doe'], ['2', 'Jane', 'Smith'], ['3', 'Bob', 'Johnson']]\n"
     ]
    }
   ],
   "source": [
    "import csv\n",
    "from io import StringIO\n",
    "def csv_to_list(csv_str):\n",
    "    csv_file = StringIO(csv_str)\n",
    "    csv_reader = csv.reader(csv_file)\n",
    "    result = [row for row in csv_reader]\n",
    "    return result\n",
    "\n",
    "csv_str = \"1,John,Doe\\n2,Jane,Smith\\n3,Bob,Johnson\"\n",
    "result_list = csv_to_list(csv_str)\n",
    "print(result_list)"
   ]
  },
  {
   "attachments": {},
   "cell_type": "markdown",
   "metadata": {},
   "source": [
    "## **List based practice problem :**\n",
    "\n",
    "---\n"
   ]
  },
  {
   "attachments": {},
   "cell_type": "markdown",
   "metadata": {},
   "source": [
    "### 1. Create a list with integers from 1 to 10."
   ]
  },
  {
   "cell_type": "code",
   "execution_count": 78,
   "metadata": {},
   "outputs": [
    {
     "name": "stdout",
     "output_type": "stream",
     "text": [
      "[1, 2, 3, 4, 5, 6, 7, 8, 9, 10]\n"
     ]
    }
   ],
   "source": [
    "list=[a for a in range(1,11)]\n",
    "print(list)"
   ]
  },
  {
   "attachments": {},
   "cell_type": "markdown",
   "metadata": {},
   "source": [
    "### 2. Find the length of a list without using the `len()` function."
   ]
  },
  {
   "cell_type": "code",
   "execution_count": 80,
   "metadata": {},
   "outputs": [
    {
     "data": {
      "text/plain": [
       "\"your list have '8' items\""
      ]
     },
     "execution_count": 80,
     "metadata": {},
     "output_type": "execute_result"
    }
   ],
   "source": [
    "def list_len(l):\n",
    "    cnt=0\n",
    "    for i in l:\n",
    "        cnt+=1\n",
    "    return f\"your list have '{cnt}' items\"\n",
    "l=[1,2,4,6,7,8,4,2]\n",
    "list_len(l)"
   ]
  },
  {
   "attachments": {},
   "cell_type": "markdown",
   "metadata": {},
   "source": [
    "### 3. Append an element to the end of a list."
   ]
  },
  {
   "cell_type": "code",
   "execution_count": 83,
   "metadata": {},
   "outputs": [
    {
     "data": {
      "text/plain": [
       "[1, 2, 4, 5, 6]"
      ]
     },
     "execution_count": 83,
     "metadata": {},
     "output_type": "execute_result"
    }
   ],
   "source": [
    "list_1=[1,2,4,5]\n",
    "list_1.append(6) #append(element)\n",
    "list_1"
   ]
  },
  {
   "attachments": {},
   "cell_type": "markdown",
   "metadata": {},
   "source": [
    "### 4. Insert an element at a specific index in a list."
   ]
  },
  {
   "cell_type": "code",
   "execution_count": 85,
   "metadata": {},
   "outputs": [
    {
     "data": {
      "text/plain": [
       "[12, 1, 2, 4, 6]"
      ]
     },
     "execution_count": 85,
     "metadata": {},
     "output_type": "execute_result"
    }
   ],
   "source": [
    "list = [1,2,4,6]\n",
    "list.insert(0,12)  # insert(index,element)\n",
    "list"
   ]
  },
  {
   "attachments": {},
   "cell_type": "markdown",
   "metadata": {},
   "source": [
    "### 5. Remove an element from a list by its value."
   ]
  },
  {
   "cell_type": "code",
   "execution_count": 88,
   "metadata": {},
   "outputs": [
    {
     "data": {
      "text/plain": [
       "[2, 5, 7]"
      ]
     },
     "execution_count": 88,
     "metadata": {},
     "output_type": "execute_result"
    }
   ],
   "source": [
    "list=[2,3,5,7]\n",
    "list.remove(3)\n",
    "list "
   ]
  },
  {
   "attachments": {},
   "cell_type": "markdown",
   "metadata": {},
   "source": [
    "### 6. Remove an element from a list by its index."
   ]
  },
  {
   "cell_type": "code",
   "execution_count": 90,
   "metadata": {},
   "outputs": [
    {
     "data": {
      "text/plain": [
       "[2, 5, 6, 7]"
      ]
     },
     "execution_count": 90,
     "metadata": {},
     "output_type": "execute_result"
    }
   ],
   "source": [
    "list= [2,3,5,6,7]\n",
    "list.pop(1)   #pop(index to remove)\n",
    "list"
   ]
  },
  {
   "attachments": {},
   "cell_type": "markdown",
   "metadata": {},
   "source": [
    "### 7. Check if an element exists in a list."
   ]
  },
  {
   "cell_type": "code",
   "execution_count": 91,
   "metadata": {},
   "outputs": [
    {
     "name": "stdout",
     "output_type": "stream",
     "text": [
      "3 is not in list\n"
     ]
    }
   ],
   "source": [
    "list=[2,4,6,78,8]\n",
    "element=3\n",
    "if element in list:\n",
    "    print(f\"{element} is in list\")\n",
    "else:\n",
    "    print(f\"{element} is not in list\")\n"
   ]
  },
  {
   "attachments": {},
   "cell_type": "markdown",
   "metadata": {},
   "source": [
    "### 8. Find the index of the first occurrence of an element in a list."
   ]
  },
  {
   "cell_type": "code",
   "execution_count": 99,
   "metadata": {},
   "outputs": [
    {
     "name": "stdout",
     "output_type": "stream",
     "text": [
      "first occurance of '4' at index : 2\n"
     ]
    }
   ],
   "source": [
    "list=[3,5,4,6,7,8,9,4,6]\n",
    "element=4\n",
    "a=list.index(4)\n",
    "print(f\"first occurance of '{element}' at index : {a}\")"
   ]
  },
  {
   "attachments": {},
   "cell_type": "markdown",
   "metadata": {},
   "source": [
    "### 9. Count the occurrences of an element in a list."
   ]
  },
  {
   "cell_type": "code",
   "execution_count": 102,
   "metadata": {},
   "outputs": [
    {
     "name": "stdout",
     "output_type": "stream",
     "text": [
      "occurance of '3' is 2 times\n"
     ]
    }
   ],
   "source": [
    "list=[2,3,5,6,8,9,5,4,3]\n",
    "element=3\n",
    "a=list.count(element)   \n",
    "print(f\"occurance of '{element}' is {a} times\")"
   ]
  },
  {
   "attachments": {},
   "cell_type": "markdown",
   "metadata": {},
   "source": [
    "### 10. Reverse the order of elements in a list."
   ]
  },
  {
   "cell_type": "code",
   "execution_count": 104,
   "metadata": {},
   "outputs": [
    {
     "data": {
      "text/plain": [
       "[9, 8, 7, 5, 4, 3]"
      ]
     },
     "execution_count": 104,
     "metadata": {},
     "output_type": "execute_result"
    }
   ],
   "source": [
    "list= [3,4,5,7,8,9]\n",
    "list.reverse()\n",
    "list"
   ]
  },
  {
   "attachments": {},
   "cell_type": "markdown",
   "metadata": {},
   "source": [
    "### 11. Sort a list in ascending order."
   ]
  },
  {
   "cell_type": "code",
   "execution_count": 128,
   "metadata": {},
   "outputs": [
    {
     "data": {
      "text/plain": [
       "[1, 2, 2, 3, 5, 8]"
      ]
     },
     "execution_count": 128,
     "metadata": {},
     "output_type": "execute_result"
    }
   ],
   "source": [
    "list=[2,8,5,3,2,1]\n",
    "a=sorted(list)\n",
    "a\n"
   ]
  },
  {
   "attachments": {},
   "cell_type": "markdown",
   "metadata": {},
   "source": [
    "### 12. Sort a list in descending order."
   ]
  },
  {
   "cell_type": "code",
   "execution_count": 129,
   "metadata": {},
   "outputs": [
    {
     "data": {
      "text/plain": [
       "[8, 5, 3, 2, 2, 1]"
      ]
     },
     "execution_count": 129,
     "metadata": {},
     "output_type": "execute_result"
    }
   ],
   "source": [
    "list=[2,8,5,3,2,1]\n",
    "a=sorted(list,reverse=True)\n",
    "a"
   ]
  },
  {
   "attachments": {},
   "cell_type": "markdown",
   "metadata": {},
   "source": [
    "### 13. Create a list of even numbers from 1 to 20."
   ]
  },
  {
   "cell_type": "code",
   "execution_count": 131,
   "metadata": {},
   "outputs": [
    {
     "data": {
      "text/plain": [
       "[2, 4, 6, 8, 10, 12, 14, 16, 18, 20]"
      ]
     },
     "execution_count": 131,
     "metadata": {},
     "output_type": "execute_result"
    }
   ],
   "source": [
    "list = [i for i in range(1,21) if i%2==0]\n",
    "list"
   ]
  },
  {
   "attachments": {},
   "cell_type": "markdown",
   "metadata": {},
   "source": [
    "### 14. Create a list of odd numbers from 1 to 20."
   ]
  },
  {
   "cell_type": "code",
   "execution_count": 152,
   "metadata": {},
   "outputs": [
    {
     "data": {
      "text/plain": [
       "[1, 3, 5, 7, 9, 11, 13, 15, 17, 19]"
      ]
     },
     "execution_count": 152,
     "metadata": {},
     "output_type": "execute_result"
    }
   ],
   "source": [
    "list = [i for i in range(1,21) if i%2==1]\n",
    "list"
   ]
  },
  {
   "attachments": {},
   "cell_type": "markdown",
   "metadata": {},
   "source": [
    "### 15. Find the sum of all elements in a list."
   ]
  },
  {
   "cell_type": "code",
   "execution_count": 1,
   "metadata": {},
   "outputs": [
    {
     "name": "stdout",
     "output_type": "stream",
     "text": [
      "sum of all items in my_list: 23\n"
     ]
    }
   ],
   "source": [
    "my_list = [2, 3, 5, 6, 7]\n",
    "total = sum(my_list)\n",
    "print(f\"sum of all items in my_list: {total}\")"
   ]
  },
  {
   "attachments": {},
   "cell_type": "markdown",
   "metadata": {},
   "source": [
    "### 16. Find the maximum value in a list."
   ]
  },
  {
   "cell_type": "code",
   "execution_count": 3,
   "metadata": {},
   "outputs": [
    {
     "name": "stdout",
     "output_type": "stream",
     "text": [
      "max of all items in my_list: 7\n"
     ]
    }
   ],
   "source": [
    "my_list = [2, 3, 5, 6, 7]\n",
    "max_val = max(my_list)\n",
    "print(f\"max of all items in my_list: {max_val}\")"
   ]
  },
  {
   "cell_type": "markdown",
   "metadata": {},
   "source": [
    "### 17. Find the minimum value in a list."
   ]
  },
  {
   "cell_type": "code",
   "execution_count": 5,
   "metadata": {},
   "outputs": [
    {
     "name": "stdout",
     "output_type": "stream",
     "text": [
      "min of all items in my_list: 2\n"
     ]
    }
   ],
   "source": [
    "my_list = [2, 3, 5, 6, 7]\n",
    "min_val = min(my_list)\n",
    "print(f\"min of all items in my_list: {min_val}\")"
   ]
  },
  {
   "cell_type": "markdown",
   "metadata": {},
   "source": [
    "### 18. Create a list of squares of numbers from 1 to 10."
   ]
  },
  {
   "cell_type": "code",
   "execution_count": 10,
   "metadata": {},
   "outputs": [
    {
     "data": {
      "text/plain": [
       "[1, 4, 9, 16, 25, 36, 49, 64, 81, 100]"
      ]
     },
     "execution_count": 10,
     "metadata": {},
     "output_type": "execute_result"
    }
   ],
   "source": [
    "square = [i*i for i in range(1,11)]\n",
    "square"
   ]
  },
  {
   "attachments": {},
   "cell_type": "markdown",
   "metadata": {},
   "source": [
    "### 19. Create a list of random numbers."
   ]
  },
  {
   "cell_type": "code",
   "execution_count": 18,
   "metadata": {},
   "outputs": [
    {
     "name": "stdout",
     "output_type": "stream",
     "text": [
      "list of random integer : [23, 15, 1, 8, 1]\n"
     ]
    }
   ],
   "source": [
    "import random\n",
    "random_int=[random.randint(1,50) for i in range(5)]\n",
    "print(f\"list of random integer : {random_int}\")"
   ]
  },
  {
   "attachments": {},
   "cell_type": "markdown",
   "metadata": {},
   "source": [
    "### 20. Remove duplicates from a list."
   ]
  },
  {
   "cell_type": "code",
   "execution_count": 50,
   "metadata": {},
   "outputs": [
    {
     "name": "stdout",
     "output_type": "stream",
     "text": [
      "[1, 2, 3, 5, 6]\n"
     ]
    }
   ],
   "source": [
    "list_1 = [1, 2, 3, 4, 4, 5, 6, 7, 7]\n",
    "l2 = [i for i in list_1 if list_1.count(i) == 1]\n",
    "print(l2)\n",
    "# also can be solved using remove() taking extra list with forand  also without extra list with while loop"
   ]
  },
  {
   "attachments": {},
   "cell_type": "markdown",
   "metadata": {},
   "source": [
    "### 21. Find the common elements between two lists."
   ]
  },
  {
   "cell_type": "code",
   "execution_count": 46,
   "metadata": {},
   "outputs": [
    {
     "name": "stdout",
     "output_type": "stream",
     "text": [
      "common elements :  [2, 3, 7]\n"
     ]
    }
   ],
   "source": [
    "l1=[2,3,4,6,7]\n",
    "l2=[2,3,7,8,9]\n",
    "l3=[i for i in l1 if i in l2]  \n",
    "print(\"common elements : \",l3)"
   ]
  },
  {
   "attachments": {},
   "cell_type": "markdown",
   "metadata": {},
   "source": [
    "### 22. Find the difference between two lists."
   ]
  },
  {
   "cell_type": "code",
   "execution_count": 52,
   "metadata": {},
   "outputs": [
    {
     "name": "stdout",
     "output_type": "stream",
     "text": [
      "different elements :  [4, 6]\n"
     ]
    }
   ],
   "source": [
    "l1=[2,3,4,6,7]\n",
    "l2=[2,3,7,8,9]\n",
    "l3=[]\n",
    "for i in l1:\n",
    "    if i not in l2:\n",
    "        l3.append(i)   \n",
    "print(\"different elements : \",l3)\n",
    "# another method: use set(l1).difference(l2)"
   ]
  },
  {
   "cell_type": "markdown",
   "metadata": {},
   "source": [
    "### 23. Merge two lists."
   ]
  },
  {
   "cell_type": "code",
   "execution_count": 59,
   "metadata": {},
   "outputs": [
    {
     "data": {
      "text/plain": [
       "{2, 3, 4, 6, 7, 8, 9}"
      ]
     },
     "execution_count": 59,
     "metadata": {},
     "output_type": "execute_result"
    }
   ],
   "source": [
    "list1 = [1, 2, 3]\n",
    "list2 = [4, 5, 6]\n",
    "merged_list = list1 + list2\n",
    "print(merged_list)\n",
    "# if union then use set(l1+l2)"
   ]
  },
  {
   "attachments": {},
   "cell_type": "markdown",
   "metadata": {},
   "source": [
    "### 24. Multiply all elements in a list by 2."
   ]
  },
  {
   "cell_type": "code",
   "execution_count": 61,
   "metadata": {},
   "outputs": [
    {
     "name": "stdout",
     "output_type": "stream",
     "text": [
      "[4, 6, 10, 12, 14]\n"
     ]
    }
   ],
   "source": [
    "l=[2,3,5,6,7]\n",
    "l=[i*2 for i in l]\n",
    "print(l)"
   ]
  },
  {
   "attachments": {},
   "cell_type": "markdown",
   "metadata": {},
   "source": [
    "### 25. Filter out all even numbers from a list."
   ]
  },
  {
   "cell_type": "code",
   "execution_count": 62,
   "metadata": {},
   "outputs": [
    {
     "data": {
      "text/plain": [
       "[4, 6, 8]"
      ]
     },
     "execution_count": 62,
     "metadata": {},
     "output_type": "execute_result"
    }
   ],
   "source": [
    "l=[3,4,5,6,7,8]\n",
    "l=[i for i in l if i%2==0]\n",
    "l "
   ]
  },
  {
   "attachments": {},
   "cell_type": "markdown",
   "metadata": {},
   "source": [
    "### 26. Convert a list of strings to a list of integers."
   ]
  },
  {
   "cell_type": "code",
   "execution_count": 63,
   "metadata": {},
   "outputs": [
    {
     "name": "stdout",
     "output_type": "stream",
     "text": [
      "[10, 20, 30]\n"
     ]
    }
   ],
   "source": [
    "l=[\"10\",\"20\",\"30\"]\n",
    "l=[int(i) for i in l]\n",
    "print(l)"
   ]
  },
  {
   "attachments": {},
   "cell_type": "markdown",
   "metadata": {},
   "source": [
    "### 28. Flatten a nested list."
   ]
  },
  {
   "cell_type": "code",
   "execution_count": 64,
   "metadata": {},
   "outputs": [
    {
     "name": "stdout",
     "output_type": "stream",
     "text": [
      "Flattened list: [1, 2, 3, 4, 5, 11, 12, 6, 7, 8, 9]\n"
     ]
    }
   ],
   "source": [
    "original_list = [[1, 2, 3], [4, 5, [11, 12]], [6, 7, 8, 9]]\n",
    "\n",
    "def flatten(input_list):\n",
    "    result = []\n",
    "    for item in input_list:\n",
    "        if isinstance(item, list):\n",
    "            result.extend(flatten(item))\n",
    "        else:\n",
    "            result.append(item)\n",
    "    return result\n",
    "flat_list = flatten(original_list)\n",
    "print(\"Flattened list:\", flat_list)\n"
   ]
  },
  {
   "attachments": {},
   "cell_type": "markdown",
   "metadata": {},
   "source": [
    "### 29. Create a list of the first 10 Fibonacci numbers."
   ]
  },
  {
   "cell_type": "code",
   "execution_count": 71,
   "metadata": {},
   "outputs": [
    {
     "name": "stdout",
     "output_type": "stream",
     "text": [
      "fibonacci series of first 10 no's : [0, 1, 1, 2, 3, 5, 8, 13, 21, 34]\n"
     ]
    }
   ],
   "source": [
    "def fib(n):\n",
    "    fib=[0,1]\n",
    "    for i in range(2,n):\n",
    "        fib.append(fib[i-1]+fib[i-2])\n",
    "    return fib\n",
    "\n",
    "n=10\n",
    "print(f\"fibonacci series of first {n} no's : {fib(n)}\")"
   ]
  },
  {
   "attachments": {},
   "cell_type": "markdown",
   "metadata": {},
   "source": [
    "### 30. Check if a list is sorted."
   ]
  },
  {
   "cell_type": "code",
   "execution_count": 79,
   "metadata": {},
   "outputs": [
    {
     "name": "stdout",
     "output_type": "stream",
     "text": [
      "The list is sorted\n"
     ]
    }
   ],
   "source": [
    "def is_sorted(arr):\n",
    "    for i in range(1, len(arr)):\n",
    "        if arr[i] < arr[i - 1]:\n",
    "            return False\n",
    "    return True\n",
    "\n",
    "my_list=[1,2,3,4,5]\n",
    "if is_sorted(my_list):\n",
    "    print(\"The list is sorted\")\n",
    "else:\n",
    "    print(\"The list is not sorted\")"
   ]
  },
  {
   "attachments": {},
   "cell_type": "markdown",
   "metadata": {},
   "source": [
    "### 31. Rotate a list to the left by `n` positions."
   ]
  },
  {
   "cell_type": "code",
   "execution_count": 83,
   "metadata": {},
   "outputs": [
    {
     "data": {
      "text/plain": [
       "[3, 4, 5, 6, 7, 1, 2]"
      ]
     },
     "execution_count": 83,
     "metadata": {},
     "output_type": "execute_result"
    }
   ],
   "source": [
    "def rotate_left(list,n):\n",
    "    n=n%len(list)\n",
    "    return list[n:]+list[0:n]\n",
    "    \n",
    "list=[1,2,3,4,5,6,7]\n",
    "rotate_left(list,2)\n"
   ]
  },
  {
   "attachments": {},
   "cell_type": "markdown",
   "metadata": {},
   "source": [
    "### 32. Rotate a list to the right by `n` positions."
   ]
  },
  {
   "cell_type": "code",
   "execution_count": 86,
   "metadata": {},
   "outputs": [
    {
     "data": {
      "text/plain": [
       "[6, 7, 1, 2, 3, 4, 5]"
      ]
     },
     "execution_count": 86,
     "metadata": {},
     "output_type": "execute_result"
    }
   ],
   "source": [
    "def rotate_right(list,n):\n",
    "    n=n%len(list)\n",
    "    return list[-n:]+list[:-n]\n",
    "    \n",
    "list=[1,2,3,4,5,6,7]\n",
    "rotate_right(list,2)"
   ]
  },
  {
   "attachments": {},
   "cell_type": "markdown",
   "metadata": {},
   "source": [
    "### 33. Create a list of prime numbers up to 50."
   ]
  },
  {
   "cell_type": "code",
   "execution_count": 88,
   "metadata": {},
   "outputs": [
    {
     "name": "stdout",
     "output_type": "stream",
     "text": [
      "[2, 3, 5, 7, 11, 13, 17, 19, 23, 29, 31, 37, 41, 43, 47]\n"
     ]
    }
   ],
   "source": [
    "def is_prime(number):\n",
    "    if number <= 1:\n",
    "        return False\n",
    "    if number <= 3:\n",
    "        return True\n",
    "    if number % 2 == 0 or number % 3 == 0:\n",
    "        return False\n",
    "    i = 5\n",
    "    while i * i <= number:\n",
    "        if number % i == 0 or number % (i + 2) == 0:\n",
    "            return False\n",
    "        i += 6\n",
    "    return True\n",
    "\n",
    "prime_numbers = [num for num in range(2, 51) if is_prime(num)]\n",
    "print(prime_numbers)\n"
   ]
  },
  {
   "attachments": {},
   "cell_type": "markdown",
   "metadata": {},
   "source": [
    "### 34. Split a list into chunks of size `n`."
   ]
  },
  {
   "cell_type": "code",
   "execution_count": 90,
   "metadata": {},
   "outputs": [
    {
     "name": "stdout",
     "output_type": "stream",
     "text": [
      "[[1, 2, 3], [4, 5, 6], [7, 8, 9]]\n"
     ]
    }
   ],
   "source": [
    "def chunk_list(input_list, n):\n",
    "    return [input_list[i:i + n] for i in range(0, len(input_list), n)]\n",
    "my_list = [1, 2, 3, 4, 5, 6, 7, 8, 9]\n",
    "chunk_size = 3\n",
    "\n",
    "result = chunk_list(my_list, chunk_size)\n",
    "print(result)\n"
   ]
  },
  {
   "attachments": {},
   "cell_type": "markdown",
   "metadata": {},
   "source": [
    "### 35. Find the second largest number in a list.\n"
   ]
  },
  {
   "cell_type": "code",
   "execution_count": 96,
   "metadata": {},
   "outputs": [
    {
     "name": "stdout",
     "output_type": "stream",
     "text": [
      "list have not sufficient elements\n"
     ]
    }
   ],
   "source": [
    "list=[3,5,1,9,8,7,10]\n",
    "list.sort(reverse=True)\n",
    "if len(list)>=2:\n",
    "    print(list[1])\n",
    "else:\n",
    "    print(\"list have not sufficient elements\")"
   ]
  },
  {
   "attachments": {},
   "cell_type": "markdown",
   "metadata": {},
   "source": [
    "### 36. Replace every element in a list with its square."
   ]
  },
  {
   "cell_type": "code",
   "execution_count": 98,
   "metadata": {},
   "outputs": [
    {
     "data": {
      "text/plain": [
       "[4, 16, 36, 64, 81]"
      ]
     },
     "execution_count": 98,
     "metadata": {},
     "output_type": "execute_result"
    }
   ],
   "source": [
    "list_ = [2,4,6,8,9]\n",
    "new_sq=[i*i for i in list_]\n",
    "new_sq"
   ]
  },
  {
   "attachments": {},
   "cell_type": "markdown",
   "metadata": {},
   "source": [
    "### 37. Convert a list to a dictionary where list elements become keys and their indices become values."
   ]
  },
  {
   "cell_type": "code",
   "execution_count": 101,
   "metadata": {},
   "outputs": [
    {
     "name": "stdout",
     "output_type": "stream",
     "text": [
      "{0: 'A', 1: 'B', 2: 'C', 3: 'D'}\n"
     ]
    }
   ],
   "source": [
    "list_=['A','B','C','D']\n",
    "dict_={i:j for i,j in enumerate(list_)}\n",
    "print(dict_)"
   ]
  },
  {
   "attachments": {},
   "cell_type": "markdown",
   "metadata": {},
   "source": [
    "### 38. Shuffle the elements of a list randomly."
   ]
  },
  {
   "cell_type": "code",
   "execution_count": 103,
   "metadata": {},
   "outputs": [
    {
     "name": "stdout",
     "output_type": "stream",
     "text": [
      "shuffled list: [1, 8, 7, 3, 2, 5]\n"
     ]
    }
   ],
   "source": [
    "import random \n",
    "list_=[1,2,3,5,7,8]\n",
    "random.shuffle(list_)\n",
    "print(\"shuffled list:\",list_)"
   ]
  },
  {
   "attachments": {},
   "cell_type": "markdown",
   "metadata": {},
   "source": [
    "### 39. Create a list of the first 10 factorial numbers."
   ]
  },
  {
   "cell_type": "code",
   "execution_count": 109,
   "metadata": {},
   "outputs": [
    {
     "data": {
      "text/plain": [
       "[1, 2, 6, 24, 120, 720, 5040, 40320, 362880, 3628800]"
      ]
     },
     "execution_count": 109,
     "metadata": {},
     "output_type": "execute_result"
    }
   ],
   "source": [
    "def fact(n):\n",
    "    fact=1\n",
    "    fact_list=[]\n",
    "    for i in range(1,n+1):\n",
    "        fact=fact*i\n",
    "        fact_list.append(fact)\n",
    "    return fact_list\n",
    "fact(10)"
   ]
  },
  {
   "attachments": {},
   "cell_type": "markdown",
   "metadata": {},
   "source": [
    "### 40. Check if two lists have at least one element in common."
   ]
  },
  {
   "cell_type": "code",
   "execution_count": 120,
   "metadata": {},
   "outputs": [
    {
     "data": {
      "text/plain": [
       "'have common element'"
      ]
     },
     "execution_count": 120,
     "metadata": {},
     "output_type": "execute_result"
    }
   ],
   "source": [
    "def common_or_not(l1,l2):\n",
    "    for i in l1:\n",
    "        if i in l2:\n",
    "            return \"have common element\"\n",
    "    return \"no common element\"\n",
    "l1=[2,3,5,6]\n",
    "l2=[9,8,6,4]\n",
    "common_or_not(l1,l2)"
   ]
  },
  {
   "attachments": {},
   "cell_type": "markdown",
   "metadata": {},
   "source": [
    "### 41. Remove all elements from a list."
   ]
  },
  {
   "cell_type": "code",
   "execution_count": 124,
   "metadata": {},
   "outputs": [
    {
     "name": "stdout",
     "output_type": "stream",
     "text": [
      "list after removal of all elements : []\n"
     ]
    }
   ],
   "source": [
    "l=[2,3,5,6]\n",
    "l.clear()\n",
    "print(\"list after removal of all elements :\",l)"
   ]
  },
  {
   "attachments": {},
   "cell_type": "markdown",
   "metadata": {},
   "source": [
    "### 42. Replace negative numbers in a list with 0."
   ]
  },
  {
   "cell_type": "code",
   "execution_count": 134,
   "metadata": {},
   "outputs": [
    {
     "name": "stdout",
     "output_type": "stream",
     "text": [
      "[3, 0, 5, 0, 0, 3, 0]\n"
     ]
    }
   ],
   "source": [
    "l = [3,-4,5,-3,-6,3,-9]\n",
    "new_l=[0 if i<0 else i for i in l]\n",
    "print(new_l)"
   ]
  },
  {
   "attachments": {},
   "cell_type": "markdown",
   "metadata": {},
   "source": [
    "### 43. Convert a string into a list of words."
   ]
  },
  {
   "cell_type": "code",
   "execution_count": 138,
   "metadata": {},
   "outputs": [
    {
     "name": "stdout",
     "output_type": "stream",
     "text": [
      "['helo', 'world', 'you', 'are', 'great']\n"
     ]
    }
   ],
   "source": [
    "string = \"helo world you are great\"\n",
    "l=string.split()\n",
    "print(l)"
   ]
  },
  {
   "attachments": {},
   "cell_type": "markdown",
   "metadata": {},
   "source": [
    "### 44. Convert a list of words into a string."
   ]
  },
  {
   "cell_type": "code",
   "execution_count": 143,
   "metadata": {},
   "outputs": [
    {
     "name": "stdout",
     "output_type": "stream",
     "text": [
      "helo world you are great\n"
     ]
    }
   ],
   "source": [
    "l=['helo', 'world', 'you', 'are', 'great']\n",
    "string=' '.join(l)\n",
    "print(string)"
   ]
  },
  {
   "attachments": {},
   "cell_type": "markdown",
   "metadata": {},
   "source": [
    "### 45. Create a list of the first `n` powers of 2."
   ]
  },
  {
   "cell_type": "code",
   "execution_count": 147,
   "metadata": {},
   "outputs": [
    {
     "name": "stdout",
     "output_type": "stream",
     "text": [
      "[1, 2, 4, 8, 16]\n"
     ]
    }
   ],
   "source": [
    "n=5\n",
    "l=[2**i for i in range(n)] \n",
    "print(l)"
   ]
  },
  {
   "attachments": {},
   "cell_type": "markdown",
   "metadata": {},
   "source": [
    "### 46. Find the longest string in a list of strings."
   ]
  },
  {
   "cell_type": "code",
   "execution_count": 152,
   "metadata": {},
   "outputs": [
    {
     "name": "stdout",
     "output_type": "stream",
     "text": [
      "prince\n"
     ]
    }
   ],
   "source": [
    "l=[\"helo\",\"how\", \"are\",\"you\", \"prince\"]\n",
    "longest=''\n",
    "for i in l:\n",
    "    if len(i)>len(longest):\n",
    "        longest=i\n",
    "print(longest)\n"
   ]
  },
  {
   "attachments": {},
   "cell_type": "markdown",
   "metadata": {},
   "source": [
    "### 47. Find the shortest string in a list of strings."
   ]
  },
  {
   "cell_type": "code",
   "execution_count": 154,
   "metadata": {},
   "outputs": [
    {
     "name": "stdout",
     "output_type": "stream",
     "text": [
      "how\n"
     ]
    }
   ],
   "source": [
    "l=[\"helo\",\"how\",\"are\",\"you\", \"prince\"]\n",
    "shortest=l[0]\n",
    "for i in l:\n",
    "    if len(i)<len(shortest):\n",
    "        shortest=i\n",
    "print(shortest)"
   ]
  },
  {
   "attachments": {},
   "cell_type": "markdown",
   "metadata": {},
   "source": [
    "### 48. Create a list of the first `n` triangular numbers."
   ]
  },
  {
   "cell_type": "code",
   "execution_count": 162,
   "metadata": {},
   "outputs": [
    {
     "name": "stdout",
     "output_type": "stream",
     "text": [
      "The first 5 triangular numbers is [1, 3, 6, 10, 15].\n"
     ]
    }
   ],
   "source": [
    "def triangular_numbers(n):\n",
    "    return [(i * (i+ 1)) // 2 for i in range(1,n+1)]\n",
    "\n",
    "n = 5\n",
    "result = triangular_numbers(n)\n",
    "print(f\"The first {n} triangular numbers is {result}.\")"
   ]
  },
  {
   "attachments": {},
   "cell_type": "markdown",
   "metadata": {},
   "source": [
    "### 49. Check if a list contains another list as a subsequence."
   ]
  },
  {
   "cell_type": "code",
   "execution_count": 179,
   "metadata": {},
   "outputs": [
    {
     "name": "stdout",
     "output_type": "stream",
     "text": [
      "list contains subsequence\n"
     ]
    }
   ],
   "source": [
    "def is_seq_contains(list_,subseq):\n",
    "    subseq_idx= 0\n",
    "    for i in list_:\n",
    "        if i==subseq[subseq_idx]:\n",
    "            subseq_idx+=1\n",
    "            if subseq_idx==len(subseq):\n",
    "                return True\n",
    "    return False\n",
    "\n",
    "list_=[2,3,5,6,7,8,9]\n",
    "subseq=[3,5,6]\n",
    "if is_seq_contains(list_,subseq):\n",
    "    print(\"list contains subsequence\")\n",
    "else:\n",
    "    print(\"list not contains subsequence\")\n",
    "    \n"
   ]
  },
  {
   "attachments": {},
   "cell_type": "markdown",
   "metadata": {},
   "source": [
    "### 50. Swap two elements in a list by their indices."
   ]
  },
  {
   "cell_type": "code",
   "execution_count": 181,
   "metadata": {},
   "outputs": [
    {
     "name": "stdout",
     "output_type": "stream",
     "text": [
      "[2, 3, 6, 5, 7]\n"
     ]
    }
   ],
   "source": [
    "list_=[2,3,5,6,7]\n",
    "idx1=2\n",
    "idx2=3\n",
    "list_[idx1],list_[idx2]=list_[idx2],list_[idx1]\n",
    "print(list_)\n"
   ]
  },
  {
   "attachments": {},
   "cell_type": "markdown",
   "metadata": {},
   "source": [
    "## **Tuple based practice problem :**\n"
   ]
  },
  {
   "attachments": {},
   "cell_type": "markdown",
   "metadata": {},
   "source": [
    "### 1. Create a tuple with integers from 1 to 5."
   ]
  },
  {
   "cell_type": "code",
   "execution_count": 184,
   "metadata": {},
   "outputs": [
    {
     "data": {
      "text/plain": [
       "(1, 2, 3, 4, 5)"
      ]
     },
     "execution_count": 184,
     "metadata": {},
     "output_type": "execute_result"
    }
   ],
   "source": [
    "tup=tuple(i for i in range(1,6))\n",
    "tup"
   ]
  },
  {
   "attachments": {},
   "cell_type": "markdown",
   "metadata": {},
   "source": [
    "### 2. Access the third element of a tuple."
   ]
  },
  {
   "cell_type": "code",
   "execution_count": 189,
   "metadata": {},
   "outputs": [
    {
     "name": "stdout",
     "output_type": "stream",
     "text": [
      "third element:  5\n"
     ]
    }
   ],
   "source": [
    "tuple=(2,3,5,7)\n",
    "print(\"third element: \",tuple[2])"
   ]
  },
  {
   "attachments": {},
   "cell_type": "markdown",
   "metadata": {},
   "source": [
    "### 3. Find the length of a tuple without using the `len()` function."
   ]
  },
  {
   "cell_type": "code",
   "execution_count": 190,
   "metadata": {},
   "outputs": [
    {
     "data": {
      "text/plain": [
       "4"
      ]
     },
     "execution_count": 190,
     "metadata": {},
     "output_type": "execute_result"
    }
   ],
   "source": [
    "def length(tup):\n",
    "    cnt=0\n",
    "    for i in tup:\n",
    "        cnt+=1\n",
    "    return cnt\n",
    "tup=[3,5,6,7]\n",
    "length(tup)"
   ]
  },
  {
   "attachments": {},
   "cell_type": "markdown",
   "metadata": {},
   "source": [
    "### 4. Count the occurrences of an element in a tuple."
   ]
  },
  {
   "cell_type": "code",
   "execution_count": 203,
   "metadata": {},
   "outputs": [
    {
     "name": "stdout",
     "output_type": "stream",
     "text": [
      "element 8 occured 3 times in tuple\n"
     ]
    }
   ],
   "source": [
    "def occurance(tup,element):\n",
    "    cnt=0\n",
    "    for i in tup:\n",
    "        if element==i:\n",
    "            cnt+=1\n",
    "    return cnt \n",
    "tup=(3,4,5,5,6,7,8,8,8)\n",
    "n=8\n",
    "print(\"element\",n,\"occured\",occurance(tup,n),\"times in tuple\")"
   ]
  },
  {
   "attachments": {},
   "cell_type": "markdown",
   "metadata": {},
   "source": [
    "### 5. Find the index of the first occurrence of an element in a tuple.             "
   ]
  },
  {
   "cell_type": "code",
   "execution_count": 19,
   "metadata": {},
   "outputs": [
    {
     "name": "stdout",
     "output_type": "stream",
     "text": [
      "element 4 at index 2\n",
      "43 not found\n"
     ]
    }
   ],
   "source": [
    "def first_occ(tup,element):\n",
    "    idx=-1\n",
    "    for i in tup:\n",
    "        idx+=1\n",
    "        if element==i:\n",
    "            return f\"element {element} at index {idx}\"\n",
    "    return f\"{element} not found\" \n",
    "tup=(2,3,4,5,7,8)\n",
    "print(first_occ(tup,4))\n",
    "print(first_occ(tup,43))"
   ]
  },
  {
   "attachments": {},
   "cell_type": "markdown",
   "metadata": {},
   "source": [
    "### 6. Check if an element exists in a tuple."
   ]
  },
  {
   "cell_type": "code",
   "execution_count": 22,
   "metadata": {},
   "outputs": [
    {
     "name": "stdout",
     "output_type": "stream",
     "text": [
      "3 found\n",
      "23 not found\n"
     ]
    }
   ],
   "source": [
    "def if_exist(tup,element):\n",
    "    if element in tup:\n",
    "        return f\"{element} found\"\n",
    "    return f\"{element} not found\"\n",
    "tup=(3,5,6,8,4,11)\n",
    "print(if_exist(tup,3))\n",
    "print(if_exist(tup,23))\n",
    "    "
   ]
  },
  {
   "attachments": {},
   "cell_type": "markdown",
   "metadata": {},
   "source": [
    "### 7. Convert a tuple to a list."
   ]
  },
  {
   "cell_type": "code",
   "execution_count": 24,
   "metadata": {},
   "outputs": [
    {
     "name": "stdout",
     "output_type": "stream",
     "text": [
      "[3, 4, 5, 6]\n"
     ]
    }
   ],
   "source": [
    "tup=(3,4,5,6)\n",
    "print(list(tup))"
   ]
  },
  {
   "attachments": {},
   "cell_type": "markdown",
   "metadata": {},
   "source": [
    "### 8. Convert a list to a tuple."
   ]
  },
  {
   "cell_type": "code",
   "execution_count": 26,
   "metadata": {},
   "outputs": [
    {
     "name": "stdout",
     "output_type": "stream",
     "text": [
      "(3, 4, 5, 6)\n"
     ]
    }
   ],
   "source": [
    "list_=[3,4,5,6]\n",
    "print(tuple(list_))"
   ]
  },
  {
   "attachments": {},
   "cell_type": "markdown",
   "metadata": {},
   "source": [
    "### 9. Unpack the elements of a tuple into variables."
   ]
  },
  {
   "cell_type": "code",
   "execution_count": 27,
   "metadata": {},
   "outputs": [
    {
     "name": "stdout",
     "output_type": "stream",
     "text": [
      "3\n",
      "4\n",
      "5\n"
     ]
    }
   ],
   "source": [
    "tup=(3,4,5)\n",
    "v1,v2,v3=tup\n",
    "print(v1)\n",
    "print(v2)\n",
    "print(v3)"
   ]
  },
  {
   "attachments": {},
   "cell_type": "markdown",
   "metadata": {},
   "source": [
    "### 10. Create a tuple of even numbers from 1 to 10."
   ]
  },
  {
   "cell_type": "code",
   "execution_count": 29,
   "metadata": {},
   "outputs": [
    {
     "name": "stdout",
     "output_type": "stream",
     "text": [
      "(1, 2, 3, 4, 5, 6, 7, 8, 9, 10)\n"
     ]
    }
   ],
   "source": [
    "tup=tuple(range(1,11))\n",
    "print(tup)"
   ]
  },
  {
   "attachments": {},
   "cell_type": "markdown",
   "metadata": {},
   "source": [
    "### 11. Create a tuple of odd numbers from 1 to 10."
   ]
  },
  {
   "cell_type": "code",
   "execution_count": 32,
   "metadata": {},
   "outputs": [
    {
     "name": "stdout",
     "output_type": "stream",
     "text": [
      "(1, 3, 5, 7, 9)\n"
     ]
    }
   ],
   "source": [
    "tup=tuple(i for i in range(1,11)if i%2==1)\n",
    "print(tup)"
   ]
  },
  {
   "attachments": {},
   "cell_type": "markdown",
   "metadata": {},
   "source": [
    "### 12. Concatenate two tuples."
   ]
  },
  {
   "cell_type": "code",
   "execution_count": 33,
   "metadata": {},
   "outputs": [
    {
     "name": "stdout",
     "output_type": "stream",
     "text": [
      "(3, 4, 5, 5, 6, 7, 8)\n"
     ]
    }
   ],
   "source": [
    "t1=(3,4,5)\n",
    "t2=(5,6,7,8)\n",
    "print(t1+t2)"
   ]
  },
  {
   "attachments": {},
   "cell_type": "markdown",
   "metadata": {},
   "source": [
    "### 13. Repeat a tuple three times."
   ]
  },
  {
   "cell_type": "code",
   "execution_count": 34,
   "metadata": {},
   "outputs": [
    {
     "name": "stdout",
     "output_type": "stream",
     "text": [
      "(3, 4, 6, 3, 4, 6, 3, 4, 6)\n"
     ]
    }
   ],
   "source": [
    "tup=(3,4,6)\n",
    "print(tup*3)"
   ]
  },
  {
   "attachments": {},
   "cell_type": "markdown",
   "metadata": {},
   "source": [
    "### 14. Check if a tuple is empty."
   ]
  },
  {
   "cell_type": "code",
   "execution_count": 36,
   "metadata": {},
   "outputs": [
    {
     "name": "stdout",
     "output_type": "stream",
     "text": [
      "tuple is not empty\n",
      "tuple is empty\n"
     ]
    }
   ],
   "source": [
    "def is_empty(tup):\n",
    "    if len(tup)==0:\n",
    "        return \"tuple is empty\"\n",
    "    return \"tuple is not empty\"\n",
    "tup1=(3,4,4)\n",
    "tup2=()\n",
    "print(is_empty(tup1))\n",
    "print(is_empty(tup2))\n"
   ]
  },
  {
   "attachments": {},
   "cell_type": "markdown",
   "metadata": {},
   "source": [
    "### 15. Create a nested tuple."
   ]
  },
  {
   "cell_type": "code",
   "execution_count": 38,
   "metadata": {},
   "outputs": [
    {
     "name": "stdout",
     "output_type": "stream",
     "text": [
      "((2, 3), (4, 5, 6, ('helo', 'everyone'), (True, False)))\n"
     ]
    }
   ],
   "source": [
    "tup=((2,3),(4,5,6,(\"helo\",\"everyone\"),(True,False)))\n",
    "print(tup)"
   ]
  },
  {
   "attachments": {},
   "cell_type": "markdown",
   "metadata": {},
   "source": [
    "### 16. Access the first element of a nested tuple."
   ]
  },
  {
   "cell_type": "code",
   "execution_count": 40,
   "metadata": {},
   "outputs": [
    {
     "name": "stdout",
     "output_type": "stream",
     "text": [
      "(2, 3)\n"
     ]
    }
   ],
   "source": [
    "tup=((2,3),(4,5,6,(\"helo\",\"everyone\"),(True,False)))\n",
    "print(tup[0])"
   ]
  },
  {
   "attachments": {},
   "cell_type": "markdown",
   "metadata": {},
   "source": [
    "### 17. Create a tuple with a single element."
   ]
  },
  {
   "cell_type": "code",
   "execution_count": 45,
   "metadata": {},
   "outputs": [
    {
     "name": "stdout",
     "output_type": "stream",
     "text": [
      "(23,)\n"
     ]
    }
   ],
   "source": [
    "tup=(23,)\n",
    "print(tup)"
   ]
  },
  {
   "attachments": {},
   "cell_type": "markdown",
   "metadata": {},
   "source": [
    "### 18. Compare two tuples."
   ]
  },
  {
   "cell_type": "code",
   "execution_count": 46,
   "metadata": {},
   "outputs": [
    {
     "name": "stdout",
     "output_type": "stream",
     "text": [
      "tup1 == tup2: False\n",
      "tup1 != tup2: True\n",
      "tup1 < tup2: True\n",
      "tup1 <= tup2: True\n",
      "tup1 > tup2: False\n",
      "tup1 >= tup2: False\n"
     ]
    }
   ],
   "source": [
    "tup1 = (1, 2, 3)\n",
    "tup2 = (1, 2, 4)\n",
    "\n",
    "print(\"tup1 == tup2:\", tup1 == tup2)\n",
    "print(\"tup1 != tup2:\", tup1 != tup2)\n",
    "print(\"tup1 < tup2:\", tup1 < tup2)\n",
    "print(\"tup1 <= tup2:\", tup1 <= tup2)\n",
    "print(\"tup1 > tup2:\", tup1 > tup2)\n",
    "print(\"tup1 >= tup2:\", tup1 >= tup2)\n"
   ]
  },
  {
   "cell_type": "markdown",
   "metadata": {},
   "source": [
    "### 19. Delete a tuple."
   ]
  },
  {
   "cell_type": "code",
   "execution_count": 47,
   "metadata": {},
   "outputs": [
    {
     "ename": "NameError",
     "evalue": "name 'tup' is not defined",
     "output_type": "error",
     "traceback": [
      "\u001b[1;31m---------------------------------------------------------------------------\u001b[0m",
      "\u001b[1;31mNameError\u001b[0m                                 Traceback (most recent call last)",
      "Cell \u001b[1;32mIn[47], line 3\u001b[0m\n\u001b[0;32m      1\u001b[0m tup\u001b[39m=\u001b[39m(\u001b[39m3\u001b[39m,\u001b[39m4\u001b[39m,\u001b[39m5\u001b[39m)\n\u001b[0;32m      2\u001b[0m \u001b[39mdel\u001b[39;00m tup\n\u001b[1;32m----> 3\u001b[0m \u001b[39mprint\u001b[39m(tup)\n",
      "\u001b[1;31mNameError\u001b[0m: name 'tup' is not defined"
     ]
    }
   ],
   "source": [
    "tup=(3,4,5)\n",
    "del tup\n",
    "print(tup)"
   ]
  },
  {
   "attachments": {},
   "cell_type": "markdown",
   "metadata": {},
   "source": [
    "### 20. Slice a tuple."
   ]
  },
  {
   "cell_type": "code",
   "execution_count": 51,
   "metadata": {},
   "outputs": [
    {
     "name": "stdout",
     "output_type": "stream",
     "text": [
      "(6, 7)\n"
     ]
    }
   ],
   "source": [
    "tup=(5,3,2,6,7,8,9)\n",
    "print(tup[3:5])"
   ]
  },
  {
   "attachments": {},
   "cell_type": "markdown",
   "metadata": {},
   "source": [
    "### 21. Find the maximum value in a tuple."
   ]
  },
  {
   "cell_type": "code",
   "execution_count": 54,
   "metadata": {},
   "outputs": [
    {
     "name": "stdout",
     "output_type": "stream",
     "text": [
      "max value in tup:  22\n"
     ]
    }
   ],
   "source": [
    "tup=(3,4,6,8,9,22,5)\n",
    "max_=max(tup)\n",
    "print(\"max value in tup: \",max_)\n",
    "\n"
   ]
  },
  {
   "attachments": {},
   "cell_type": "markdown",
   "metadata": {},
   "source": [
    "### 22. Find the minimum value in a tuple."
   ]
  },
  {
   "cell_type": "code",
   "execution_count": 56,
   "metadata": {},
   "outputs": [
    {
     "name": "stdout",
     "output_type": "stream",
     "text": [
      "minimum value in tuple : 3\n"
     ]
    }
   ],
   "source": [
    "tup=(3,45,4,6,7)\n",
    "min_=min(tup)\n",
    "print(\"minimum value in tuple :\",min_)"
   ]
  },
  {
   "attachments": {},
   "cell_type": "markdown",
   "metadata": {},
   "source": [
    "### 23. Convert a string to a tuple of characters."
   ]
  },
  {
   "cell_type": "code",
   "execution_count": 57,
   "metadata": {},
   "outputs": [
    {
     "name": "stdout",
     "output_type": "stream",
     "text": [
      "('a', 'b', 'c')\n"
     ]
    }
   ],
   "source": [
    "string=\"abc\"\n",
    "tup=tuple(i for i in string)\n",
    "print(tup)"
   ]
  },
  {
   "attachments": {},
   "cell_type": "markdown",
   "metadata": {},
   "source": [
    "### 24. Convert a tuple of characters to a string."
   ]
  },
  {
   "cell_type": "code",
   "execution_count": 59,
   "metadata": {},
   "outputs": [
    {
     "data": {
      "text/plain": [
       "'abc'"
      ]
     },
     "execution_count": 59,
     "metadata": {},
     "output_type": "execute_result"
    }
   ],
   "source": [
    "tup=('a', 'b', 'c')\n",
    "string=''.join(tup)\n",
    "string"
   ]
  },
  {
   "attachments": {},
   "cell_type": "markdown",
   "metadata": {},
   "source": [
    "### 25. Create a tuple from multiple data types."
   ]
  },
  {
   "cell_type": "code",
   "execution_count": 60,
   "metadata": {},
   "outputs": [
    {
     "name": "stdout",
     "output_type": "stream",
     "text": [
      "(1, 'helo', True, 2.334)\n"
     ]
    }
   ],
   "source": [
    "tup=(1,\"helo\",True,2.334)\n",
    "print(tup)"
   ]
  },
  {
   "attachments": {},
   "cell_type": "markdown",
   "metadata": {},
   "source": [
    "### 26. Check if two tuples are identical."
   ]
  },
  {
   "cell_type": "code",
   "execution_count": 62,
   "metadata": {},
   "outputs": [
    {
     "name": "stdout",
     "output_type": "stream",
     "text": [
      "not same\n"
     ]
    }
   ],
   "source": [
    "t1=(3,4)\n",
    "t2=(4,5)\n",
    "if t1==t2:\n",
    "    print(\"identical\")\n",
    "else:\n",
    "    print(\"not same\")"
   ]
  },
  {
   "attachments": {},
   "cell_type": "markdown",
   "metadata": {},
   "source": [
    "### 27. Sort the elements of a tuple."
   ]
  },
  {
   "cell_type": "code",
   "execution_count": 67,
   "metadata": {},
   "outputs": [
    {
     "name": "stdout",
     "output_type": "stream",
     "text": [
      "[3, 4, 6, 7, 9, 32]\n"
     ]
    }
   ],
   "source": [
    "tup=(32,7,9,3,4,6)\n",
    "a=sorted(tup)\n",
    "print(a)"
   ]
  },
  {
   "attachments": {},
   "cell_type": "markdown",
   "metadata": {},
   "source": [
    "### 28. Convert a tuple of integers to a tuple of strings."
   ]
  },
  {
   "cell_type": "code",
   "execution_count": 73,
   "metadata": {},
   "outputs": [
    {
     "name": "stdout",
     "output_type": "stream",
     "text": [
      "('3', '4', '5', '6', '7')\n"
     ]
    }
   ],
   "source": [
    "tup=(3,4,5,6,7)\n",
    "string=tuple(str(i) for i in tup)\n",
    "print(string)"
   ]
  },
  {
   "attachments": {},
   "cell_type": "markdown",
   "metadata": {},
   "source": [
    "### 29. Convert a tuple of strings to a tuple of integers."
   ]
  },
  {
   "cell_type": "code",
   "execution_count": 74,
   "metadata": {},
   "outputs": [
    {
     "name": "stdout",
     "output_type": "stream",
     "text": [
      "(3, 4, 5, 6, 7)\n"
     ]
    }
   ],
   "source": [
    "tup=('3', '4', '5', '6', '7')\n",
    "int_tup=tuple(int(i) for i in tup)\n",
    "print(int_tup)"
   ]
  },
  {
   "attachments": {},
   "cell_type": "markdown",
   "metadata": {},
   "source": [
    "### 30. Merge two tuples."
   ]
  },
  {
   "cell_type": "code",
   "execution_count": 77,
   "metadata": {},
   "outputs": [
    {
     "name": "stdout",
     "output_type": "stream",
     "text": [
      "merged:  (2, 3, 5, 7, 8, 5, 3)\n"
     ]
    }
   ],
   "source": [
    "tup1=(2,3,5)\n",
    "tup2=(7,8,5,3)\n",
    "print(\"merged: \",tup1+tup2)"
   ]
  },
  {
   "attachments": {},
   "cell_type": "markdown",
   "metadata": {},
   "source": [
    "### 31. Flatten a nested tuple."
   ]
  },
  {
   "cell_type": "code",
   "execution_count": 78,
   "metadata": {},
   "outputs": [
    {
     "name": "stdout",
     "output_type": "stream",
     "text": [
      "Flattened tuple: (2, 3, 4, 5, 6, 'helo', 'everyone', True, False)\n"
     ]
    }
   ],
   "source": [
    "def flatten_tuple(nested_tuple):\n",
    "    flattened = []\n",
    "    for item in nested_tuple:\n",
    "        if isinstance(item, tuple):\n",
    "            flattened.extend(flatten_tuple(item))\n",
    "        else:\n",
    "            flattened.append(item)\n",
    "    return flattened\n",
    "\n",
    "# Example usage:\n",
    "nested_tuple = ((2, 3), (4, 5, 6, ('helo', 'everyone'), (True, False)))\n",
    "\n",
    "flattened_tuple = tuple(flatten_tuple(nested_tuple))\n",
    "\n",
    "print(\"Flattened tuple:\", flattened_tuple)    "
   ]
  },
  {
   "attachments": {},
   "cell_type": "markdown",
   "metadata": {},
   "source": [
    "### 32. Create a tuple of the first 5 prime numbers."
   ]
  },
  {
   "cell_type": "code",
   "execution_count": 9,
   "metadata": {},
   "outputs": [
    {
     "name": "stdout",
     "output_type": "stream",
     "text": [
      "tuple of first 5 no:  (2, 3, 5, 7, 11)\n"
     ]
    }
   ],
   "source": [
    "def is_prime(n):\n",
    "    if n<=1:\n",
    "        return False\n",
    "    for i in range(2,int(n**0.5)+1):\n",
    "        if n%i==0:\n",
    "            return False\n",
    "    return True\n",
    "prime_list=[n for n in range(2,100) if is_prime(n)][:5]\n",
    "prime_list_tup=tuple(prime_list)\n",
    "print(\"tuple of first 5 no: \",prime_list_tup)"
   ]
  },
  {
   "attachments": {},
   "cell_type": "markdown",
   "metadata": {},
   "source": [
    "### 3. Check if a tuple is a palindrome."
   ]
  },
  {
   "cell_type": "code",
   "execution_count": 13,
   "metadata": {},
   "outputs": [
    {
     "name": "stdout",
     "output_type": "stream",
     "text": [
      "True\n",
      "False\n"
     ]
    }
   ],
   "source": [
    "def is_palindrome(tup):\n",
    "    return tup==tup[::-1]\n",
    "\n",
    "tup1=(3,4,5,4,3)\n",
    "tup2=(3,4,5,2,3)\n",
    "print(is_palindrome(tup1))\n",
    "print(is_palindrome(tup2))"
   ]
  },
  {
   "attachments": {},
   "cell_type": "markdown",
   "metadata": {},
   "source": [
    "### 34. Create a tuple of squares of numbers from 1 to 5."
   ]
  },
  {
   "cell_type": "code",
   "execution_count": 17,
   "metadata": {},
   "outputs": [
    {
     "name": "stdout",
     "output_type": "stream",
     "text": [
      "(1, 4, 9, 16, 25)\n"
     ]
    }
   ],
   "source": [
    "sq_tup=tuple(i*i for i in range(1,6))\n",
    "\n",
    "print(sq_tup)"
   ]
  },
  {
   "attachments": {},
   "cell_type": "markdown",
   "metadata": {},
   "source": [
    "### 35. Filter out all even numbers from a tuple."
   ]
  },
  {
   "cell_type": "code",
   "execution_count": 18,
   "metadata": {},
   "outputs": [
    {
     "name": "stdout",
     "output_type": "stream",
     "text": [
      "(2, 4, 6, 8, 10)\n"
     ]
    }
   ],
   "source": [
    "def filter_even(tup):\n",
    "    return tuple(i for i in tup if i%2==0)\n",
    "tup=(1,2,3,4,5,6,7,8,9,10)\n",
    "print(filter_even(tup))   "
   ]
  },
  {
   "attachments": {},
   "cell_type": "markdown",
   "metadata": {},
   "source": [
    "### 36. Multiply all elements in a tuple by 2."
   ]
  },
  {
   "cell_type": "code",
   "execution_count": 21,
   "metadata": {},
   "outputs": [
    {
     "name": "stdout",
     "output_type": "stream",
     "text": [
      "(2, 4, 6, 8, 10, 12)\n"
     ]
    }
   ],
   "source": [
    "tup=(1,2,3,4,5,6)\n",
    "new_tup=tuple(i*2 for i in tup)\n",
    "print(new_tup)"
   ]
  },
  {
   "attachments": {},
   "cell_type": "markdown",
   "metadata": {},
   "source": [
    "### 37. Create a tuple of random numbers."
   ]
  },
  {
   "cell_type": "code",
   "execution_count": 35,
   "metadata": {},
   "outputs": [
    {
     "name": "stdout",
     "output_type": "stream",
     "text": [
      "(29, 29, 48, 33, 33)\n"
     ]
    }
   ],
   "source": [
    "import random \n",
    "tup=tuple(random.randint(1,50)for i in range(1,6))\n",
    "print(tup)"
   ]
  },
  {
   "attachments": {},
   "cell_type": "markdown",
   "metadata": {},
   "source": [
    "### 38. Check if a tuple is sorted."
   ]
  },
  {
   "cell_type": "code",
   "execution_count": 45,
   "metadata": {},
   "outputs": [
    {
     "name": "stdout",
     "output_type": "stream",
     "text": [
      "tuple is not sorted\n"
     ]
    }
   ],
   "source": [
    "def is_sorted(tup):\n",
    "    for i in range(len(tup)-1):\n",
    "        if tup[i]>tup[i+1]:\n",
    "            return \"tuple is not sorted\"\n",
    "    return \"sorted\"\n",
    "\n",
    "tup=(2,4,6)\n",
    "print(is_sorted(tup))"
   ]
  },
  {
   "attachments": {},
   "cell_type": "markdown",
   "metadata": {},
   "source": [
    "### 39. Rotate a tuple to the left by `n` positions."
   ]
  },
  {
   "cell_type": "code",
   "execution_count": 46,
   "metadata": {},
   "outputs": [
    {
     "data": {
      "text/plain": [
       "(6, 8, 9, 2, 3, 4)"
      ]
     },
     "execution_count": 46,
     "metadata": {},
     "output_type": "execute_result"
    }
   ],
   "source": [
    "def rotate_l(tup,n):\n",
    "    n=n%len(tup)\n",
    "    return tup[n:]+tup[:n]\n",
    "tup=(2,3,4,6,8,9)\n",
    "n=3\n",
    "rotate_l(tup,n)"
   ]
  },
  {
   "attachments": {},
   "cell_type": "markdown",
   "metadata": {},
   "source": [
    "### 40. Rotate a tuple to the right by `n` positions."
   ]
  },
  {
   "cell_type": "code",
   "execution_count": 55,
   "metadata": {},
   "outputs": [
    {
     "data": {
      "text/plain": [
       "(8, 9, 2, 3, 4, 6)"
      ]
     },
     "execution_count": 55,
     "metadata": {},
     "output_type": "execute_result"
    }
   ],
   "source": [
    "def rotate_r(tup,n):\n",
    "    n=n%len(tup)\n",
    "    return tup[-n:]+tup[:-n]\n",
    "tup=(2,3,4,6,8,9)\n",
    "n=2\n",
    "rotate_r(tup,n)"
   ]
  },
  {
   "attachments": {},
   "cell_type": "markdown",
   "metadata": {},
   "source": [
    "### 41. Create a tuple of the first 5 Fibonacci numbers."
   ]
  },
  {
   "cell_type": "code",
   "execution_count": 75,
   "metadata": {},
   "outputs": [
    {
     "data": {
      "text/plain": [
       "(0, 1, 1, 2, 3)"
      ]
     },
     "execution_count": 75,
     "metadata": {},
     "output_type": "execute_result"
    }
   ],
   "source": [
    "def fib(n):\n",
    "    tup=[0,1]\n",
    "    for i in range(n-2):\n",
    "        tup.append(tup[-1]+tup[-2])\n",
    "    return tuple(tup)\n",
    "fib(5)"
   ]
  },
  {
   "attachments": {},
   "cell_type": "markdown",
   "metadata": {},
   "source": [
    "### 42. Create a tuple from user input."
   ]
  },
  {
   "cell_type": "code",
   "execution_count": 96,
   "metadata": {},
   "outputs": [
    {
     "name": "stdout",
     "output_type": "stream",
     "text": [
      "you entered : a b c d\n",
      "your tuple:  ('a', 'b', 'c', 'd')\n"
     ]
    }
   ],
   "source": [
    "i=input(\"enter the elements (seperate by space) :\")\n",
    "print(\"you entered :\",i)\n",
    "input_list = i.split()\n",
    "tup= tuple(element for element in input_list)\n",
    "print(\"your tuple: \",tup)"
   ]
  },
  {
   "attachments": {},
   "cell_type": "markdown",
   "metadata": {},
   "source": [
    "### 43. Swap two elements in a tuple."
   ]
  },
  {
   "cell_type": "code",
   "execution_count": 102,
   "metadata": {},
   "outputs": [
    {
     "name": "stdout",
     "output_type": "stream",
     "text": [
      "(3, 6, 5, 4, 7, 8)\n"
     ]
    }
   ],
   "source": [
    "\n",
    "tup=(3,4,5,6,7,8)\n",
    "idx1=1\n",
    "idx2=3\n",
    "tup=list(tup)\n",
    "tup[idx1],tup[idx2]=tup[idx2],tup[idx1]\n",
    "print(tuple(tup))"
   ]
  },
  {
   "attachments": {},
   "cell_type": "markdown",
   "metadata": {},
   "source": [
    "### 44. Reverse the elements of a tuple."
   ]
  },
  {
   "cell_type": "code",
   "execution_count": 104,
   "metadata": {},
   "outputs": [
    {
     "name": "stdout",
     "output_type": "stream",
     "text": [
      "(8, 6, 5, 4, 3)\n"
     ]
    }
   ],
   "source": [
    "tup=(3,4,5,6,8)\n",
    "print(tup[::-1])"
   ]
  },
  {
   "attachments": {},
   "cell_type": "markdown",
   "metadata": {},
   "source": [
    "### 45. Create a tuple of the first `n` powers of 2."
   ]
  },
  {
   "cell_type": "code",
   "execution_count": 107,
   "metadata": {},
   "outputs": [
    {
     "name": "stdout",
     "output_type": "stream",
     "text": [
      "tuple for first 5 power of 2 : (1, 2, 4, 8, 16)\n"
     ]
    }
   ],
   "source": [
    "n=5\n",
    "tup=tuple(2**i for i in range(0,n))\n",
    "print(\"tuple for first\",n,\"power of 2 :\",tup)"
   ]
  },
  {
   "attachments": {},
   "cell_type": "markdown",
   "metadata": {},
   "source": [
    "### 46. Find the longest string in a tuple of strings."
   ]
  },
  {
   "cell_type": "code",
   "execution_count": 109,
   "metadata": {},
   "outputs": [
    {
     "name": "stdout",
     "output_type": "stream",
     "text": [
      "everyone\n"
     ]
    }
   ],
   "source": [
    "def longest_str(tup):\n",
    "    longest=\"\"\n",
    "    for i in tup:\n",
    "        if len(longest)<len(i):\n",
    "            longest=i \n",
    "    return longest \n",
    "tup=(\"helo\",\"everyone\",\"good\",\"morning\")\n",
    "print(longest_str(tup))"
   ]
  },
  {
   "attachments": {},
   "cell_type": "markdown",
   "metadata": {},
   "source": [
    "### 48. Create a tuple of the first `n` triangular numbers."
   ]
  },
  {
   "cell_type": "code",
   "execution_count": 110,
   "metadata": {},
   "outputs": [
    {
     "name": "stdout",
     "output_type": "stream",
     "text": [
      "(1, 3, 6, 10, 15)\n"
     ]
    }
   ],
   "source": [
    "n=5\n",
    "triangular_tup=tuple(i*(i+1)//2 for i in range(1,n+1))\n",
    "print(triangular_tup)"
   ]
  },
  {
   "attachments": {},
   "cell_type": "markdown",
   "metadata": {},
   "source": [
    "### 49. Check if a tuple contains another tuple as a subsequence."
   ]
  },
  {
   "cell_type": "code",
   "execution_count": 112,
   "metadata": {},
   "outputs": [
    {
     "name": "stdout",
     "output_type": "stream",
     "text": [
      "tuples contains subseq or not : True\n"
     ]
    }
   ],
   "source": [
    "def subseq_tup(tup,sub):\n",
    "    for i in range(len(tup)-len(sub)+1):\n",
    "        if tup[i:i+len(sub)]==sub:\n",
    "            return True\n",
    "    return False\n",
    "\n",
    "tup=(1,2,3,4,5,6,7,8)\n",
    "sub=(4,5,6)\n",
    "print(\"tuples contains subseq or not :\",subseq_tup(tup,sub))"
   ]
  },
  {
   "attachments": {},
   "cell_type": "markdown",
   "metadata": {},
   "source": [
    "### 50. Create a tuple of alternating 1s and 0s of length `n`."
   ]
  },
  {
   "cell_type": "code",
   "execution_count": 116,
   "metadata": {},
   "outputs": [
    {
     "data": {
      "text/plain": [
       "(0, 1, 0, 1, 0)"
      ]
     },
     "execution_count": 116,
     "metadata": {},
     "output_type": "execute_result"
    }
   ],
   "source": [
    "def tup_01(n):\n",
    "    return tuple(i%2 for i in range(n))\n",
    "tup_01(5)"
   ]
  },
  {
   "attachments": {},
   "cell_type": "markdown",
   "metadata": {},
   "source": [
    "## **Set based problems:**"
   ]
  },
  {
   "attachments": {},
   "cell_type": "markdown",
   "metadata": {},
   "source": [
    "### 1. Create a set with integers from 1 to 5"
   ]
  },
  {
   "cell_type": "code",
   "execution_count": 118,
   "metadata": {},
   "outputs": [
    {
     "name": "stdout",
     "output_type": "stream",
     "text": [
      "{1, 2, 3, 4, 5}\n"
     ]
    }
   ],
   "source": [
    "set_=set(range(1,6))\n",
    "print(set_)"
   ]
  },
  {
   "attachments": {},
   "cell_type": "markdown",
   "metadata": {},
   "source": [
    "### 2. Add an element to a set"
   ]
  },
  {
   "cell_type": "code",
   "execution_count": 130,
   "metadata": {},
   "outputs": [
    {
     "name": "stdout",
     "output_type": "stream",
     "text": [
      "{3, 4, 5, 6, 9}\n"
     ]
    }
   ],
   "source": [
    "set1={3,4,5,6}\n",
    "element=9\n",
    "set1.add(element)\n",
    "print(set1)"
   ]
  },
  {
   "attachments": {},
   "cell_type": "markdown",
   "metadata": {},
   "source": [
    "### 3. Remove an element from a set.\n"
   ]
  },
  {
   "cell_type": "code",
   "execution_count": 132,
   "metadata": {},
   "outputs": [
    {
     "name": "stdout",
     "output_type": "stream",
     "text": [
      "{4, 6, 7}\n"
     ]
    }
   ],
   "source": [
    "set2={4,5,6,7}\n",
    "element=5\n",
    "set2.remove(element)\n",
    "print(set2)"
   ]
  },
  {
   "attachments": {},
   "cell_type": "markdown",
   "metadata": {},
   "source": [
    "### 4. Check if an element exists in a set.\n"
   ]
  },
  {
   "cell_type": "code",
   "execution_count": 135,
   "metadata": {},
   "outputs": [
    {
     "name": "stdout",
     "output_type": "stream",
     "text": [
      "exist\n"
     ]
    }
   ],
   "source": [
    "set3={4,5,6,7}\n",
    "element=int(input(\"enter element: \")) # i entered :4\n",
    "if element in set3:\n",
    "    print(\"exist\")\n",
    "else:\n",
    "    print(\"not exist\")"
   ]
  },
  {
   "attachments": {},
   "cell_type": "markdown",
   "metadata": {},
   "source": [
    "### 5. Find the length of a set without using the `len()` function"
   ]
  },
  {
   "cell_type": "code",
   "execution_count": 136,
   "metadata": {},
   "outputs": [
    {
     "data": {
      "text/plain": [
       "6"
      ]
     },
     "execution_count": 136,
     "metadata": {},
     "output_type": "execute_result"
    }
   ],
   "source": [
    "def length(set_1):\n",
    "    cnt=0\n",
    "    return sum(1 for i in set_1)\n",
    "set_1={3,4,56,6,78,8}\n",
    "length(set_1)"
   ]
  },
  {
   "attachments": {},
   "cell_type": "markdown",
   "metadata": {},
   "source": [
    "### 6. Clear all elements from a set."
   ]
  },
  {
   "cell_type": "code",
   "execution_count": 141,
   "metadata": {},
   "outputs": [
    {
     "name": "stdout",
     "output_type": "stream",
     "text": [
      "Original set: {2, 3, 4, 5}\n",
      "after clearing set : set()\n"
     ]
    }
   ],
   "source": [
    "set_={2,3,4,5}\n",
    "print(\"Original set:\", set_)\n",
    "set_.clear()\n",
    "print(\"after clearing set :\",set_)"
   ]
  },
  {
   "attachments": {},
   "cell_type": "markdown",
   "metadata": {},
   "source": [
    "### 7. Create a set of even numbers from 1 to 10"
   ]
  },
  {
   "cell_type": "code",
   "execution_count": 143,
   "metadata": {},
   "outputs": [
    {
     "name": "stdout",
     "output_type": "stream",
     "text": [
      "{2, 4, 6, 8, 10}\n"
     ]
    }
   ],
   "source": [
    "set_=set(i for i in range(1,11) if i%2==0)\n",
    "print(set_)"
   ]
  },
  {
   "attachments": {},
   "cell_type": "markdown",
   "metadata": {},
   "source": [
    "### 8. Create a set of odd numbers from 1 to 10"
   ]
  },
  {
   "cell_type": "code",
   "execution_count": 144,
   "metadata": {},
   "outputs": [
    {
     "name": "stdout",
     "output_type": "stream",
     "text": [
      "{1, 3, 5, 7, 9}\n"
     ]
    }
   ],
   "source": [
    "set_=set(i for i in range(1,11) if i%2==1)\n",
    "print(set_)"
   ]
  },
  {
   "attachments": {},
   "cell_type": "markdown",
   "metadata": {},
   "source": [
    "### 9. Find the union of two sets"
   ]
  },
  {
   "cell_type": "code",
   "execution_count": 150,
   "metadata": {},
   "outputs": [
    {
     "name": "stdout",
     "output_type": "stream",
     "text": [
      "union : {3, 4, 5, 6}\n"
     ]
    }
   ],
   "source": [
    "set1={3,4,5}\n",
    "set2={4,5,3,6}\n",
    "res=set1.union(set2)\n",
    "print(\"union :\",res)"
   ]
  },
  {
   "attachments": {},
   "cell_type": "markdown",
   "metadata": {},
   "source": [
    "### 10. Find the intersection of two sets"
   ]
  },
  {
   "cell_type": "code",
   "execution_count": 151,
   "metadata": {},
   "outputs": [
    {
     "name": "stdout",
     "output_type": "stream",
     "text": [
      "intersection : {3, 4, 5}\n"
     ]
    }
   ],
   "source": [
    "set1={3,4,5}\n",
    "set2={4,5,3,6}\n",
    "res=set1.intersection(set2)\n",
    "print(\"intersection :\",res)"
   ]
  },
  {
   "attachments": {},
   "cell_type": "markdown",
   "metadata": {},
   "source": [
    "### 11. Find the difference between two sets."
   ]
  },
  {
   "cell_type": "code",
   "execution_count": 153,
   "metadata": {},
   "outputs": [
    {
     "name": "stdout",
     "output_type": "stream",
     "text": [
      "difference : {7}\n"
     ]
    }
   ],
   "source": [
    "set1={3,4,5,7}\n",
    "set2={4,5,3,6}\n",
    "res=set1.difference(set2)\n",
    "print(\"difference :\",res)"
   ]
  },
  {
   "attachments": {},
   "cell_type": "markdown",
   "metadata": {},
   "source": [
    "### 12. Check if a set is a subset of another set."
   ]
  },
  {
   "cell_type": "code",
   "execution_count": 156,
   "metadata": {},
   "outputs": [
    {
     "name": "stdout",
     "output_type": "stream",
     "text": [
      "is set2 is subset of set1 : True\n"
     ]
    }
   ],
   "source": [
    "set1={3,4,5,7}\n",
    "set2={4,5}\n",
    "res=set2.issubset(set1)\n",
    "print(\"is set2 is subset of set1 :\",res)"
   ]
  },
  {
   "cell_type": "markdown",
   "metadata": {},
   "source": []
  },
  {
   "cell_type": "code",
   "execution_count": 159,
   "metadata": {},
   "outputs": [
    {
     "name": "stdout",
     "output_type": "stream",
     "text": [
      "is set1 is superset of set2 : True\n"
     ]
    }
   ],
   "source": [
    "set1={3,4,5,7}\n",
    "set2={4,5}\n",
    "res=set1.issuperset(set2)\n",
    "print(\"is set1 is superset of set2 :\",res)"
   ]
  },
  {
   "attachments": {},
   "cell_type": "markdown",
   "metadata": {},
   "source": [
    "### 14. Create a set from a list"
   ]
  },
  {
   "cell_type": "code",
   "execution_count": 160,
   "metadata": {},
   "outputs": [
    {
     "name": "stdout",
     "output_type": "stream",
     "text": [
      "{3, 4, 5, 6}\n"
     ]
    }
   ],
   "source": [
    "list_=[3,4,5,6]\n",
    "a=set(list_)\n",
    "print(a)"
   ]
  },
  {
   "attachments": {},
   "cell_type": "markdown",
   "metadata": {},
   "source": [
    "### 15. Convert a set to a list."
   ]
  },
  {
   "cell_type": "code",
   "execution_count": 161,
   "metadata": {},
   "outputs": [
    {
     "name": "stdout",
     "output_type": "stream",
     "text": [
      "[3, 4, 6, 7]\n"
     ]
    }
   ],
   "source": [
    "set_={3,4,6,7}\n",
    "a=list(set_)\n",
    "print(a)"
   ]
  },
  {
   "attachments": {},
   "cell_type": "markdown",
   "metadata": {},
   "source": [
    "### 16. Remove a random element from a set."
   ]
  },
  {
   "cell_type": "code",
   "execution_count": 173,
   "metadata": {},
   "outputs": [
    {
     "name": "stdout",
     "output_type": "stream",
     "text": [
      "{3, 5, 7, 8}\n"
     ]
    }
   ],
   "source": [
    "import random\n",
    "set_={3,4,5,7,8}\n",
    "remove_ele=random.choice(list(set_))\n",
    "set_.remove(remove_ele)\n",
    "print(set_)"
   ]
  },
  {
   "attachments": {},
   "cell_type": "markdown",
   "metadata": {},
   "source": [
    "### 17. Pop an element from a set."
   ]
  },
  {
   "cell_type": "code",
   "execution_count": 177,
   "metadata": {},
   "outputs": [
    {
     "name": "stdout",
     "output_type": "stream",
     "text": [
      "3\n",
      "{4, 5, 6, 7}\n"
     ]
    }
   ],
   "source": [
    "set_={3,4,5,6,7}\n",
    "poped_ele=set_.pop()\n",
    "print(poped_ele)\n",
    "print(set_)"
   ]
  },
  {
   "attachments": {},
   "cell_type": "markdown",
   "metadata": {},
   "source": [
    "### 18. Check if two sets have no elements in common."
   ]
  },
  {
   "cell_type": "code",
   "execution_count": 197,
   "metadata": {},
   "outputs": [
    {
     "name": "stdout",
     "output_type": "stream",
     "text": [
      "have common\n"
     ]
    }
   ],
   "source": [
    "set_1={9,8,5}\n",
    "set_2={4,5,6,7}\n",
    "if len(set_1.intersection(set_2))==0:\n",
    "    print(\"no common\")\n",
    "else:\n",
    "    print(\"have common\")\n",
    "# also using set_1.isdisjoint(set_2)\n"
   ]
  },
  {
   "attachments": {},
   "cell_type": "markdown",
   "metadata": {},
   "source": [
    "### 19. Find the symmetric difference between two sets."
   ]
  },
  {
   "cell_type": "code",
   "execution_count": 202,
   "metadata": {},
   "outputs": [
    {
     "name": "stdout",
     "output_type": "stream",
     "text": [
      "Symmetric Difference: {2, 3, 7}\n"
     ]
    }
   ],
   "source": [
    "set1 = {6, 2, 3, 4, 5}\n",
    "set2 = {4, 5, 7, 6}\n",
    "symmetric_difference = set1 ^ set2\n",
    "print(\"Symmetric Difference:\", symmetric_difference)"
   ]
  },
  {
   "attachments": {},
   "cell_type": "markdown",
   "metadata": {},
   "source": [
    "### 20. Update a set with elements from another set."
   ]
  },
  {
   "cell_type": "code",
   "execution_count": 204,
   "metadata": {},
   "outputs": [
    {
     "name": "stdout",
     "output_type": "stream",
     "text": [
      "{1, 2, 3, 4, 6}\n"
     ]
    }
   ],
   "source": [
    "set1={1,2,3}\n",
    "set2={3,4,6}\n",
    "set1.update(set2)\n",
    "print(set1)"
   ]
  },
  {
   "attachments": {},
   "cell_type": "markdown",
   "metadata": {},
   "source": [
    "### 21. Create a set of the first 5 prime numbers."
   ]
  },
  {
   "cell_type": "code",
   "execution_count": 8,
   "metadata": {},
   "outputs": [
    {
     "name": "stdout",
     "output_type": "stream",
     "text": [
      "{2, 3, 5}\n"
     ]
    }
   ],
   "source": [
    "def is_prime(num):\n",
    "    if num <= 1:\n",
    "        return False\n",
    "    for i in range(2, int(num ** 0.5) + 1):\n",
    "        if num % i == 0:\n",
    "            return False\n",
    "    return True\n",
    "set_=set()\n",
    "num=5\n",
    "for i in range(6):\n",
    "    if is_prime(i):\n",
    "        set_.add(i)\n",
    "\n",
    "print(set_)"
   ]
  },
  {
   "attachments": {},
   "cell_type": "markdown",
   "metadata": {},
   "source": [
    "### 22. Check if two sets are identical."
   ]
  },
  {
   "cell_type": "code",
   "execution_count": 10,
   "metadata": {},
   "outputs": [
    {
     "name": "stdout",
     "output_type": "stream",
     "text": [
      "identical\n"
     ]
    }
   ],
   "source": [
    "set1={3,4,6,7}\n",
    "set2={3,4,6,7}\n",
    "if set1==set2:\n",
    "    print(\"identical\")\n",
    "else:\n",
    "    print(\"not identical\")"
   ]
  },
  {
   "attachments": {},
   "cell_type": "markdown",
   "metadata": {},
   "source": [
    "### 23. Create a frozen set"
   ]
  },
  {
   "cell_type": "code",
   "execution_count": 11,
   "metadata": {},
   "outputs": [
    {
     "name": "stdout",
     "output_type": "stream",
     "text": [
      "frozenset({2, 3, 5, 6})\n"
     ]
    }
   ],
   "source": [
    "list=[2,3,5,6]\n",
    "frozen_set=frozenset(list)\n",
    "print(frozen_set)"
   ]
  },
  {
   "attachments": {},
   "cell_type": "markdown",
   "metadata": {},
   "source": [
    "### 24. Check if a set is disjoint with another set."
   ]
  },
  {
   "cell_type": "code",
   "execution_count": 13,
   "metadata": {},
   "outputs": [
    {
     "name": "stdout",
     "output_type": "stream",
     "text": [
      "disjoint\n"
     ]
    }
   ],
   "source": [
    "set1={3,4,6,7}\n",
    "set2={8,9}\n",
    "if set1.isdisjoint(set2):\n",
    "    print(\"disjoint\")\n",
    "else:\n",
    "    print(\"not disjoint\")"
   ]
  },
  {
   "attachments": {},
   "cell_type": "markdown",
   "metadata": {},
   "source": [
    "### 25. Create a set of squares of numbers from 1 to 5."
   ]
  },
  {
   "cell_type": "code",
   "execution_count": 25,
   "metadata": {},
   "outputs": [
    {
     "name": "stdout",
     "output_type": "stream",
     "text": [
      "{1, 4, 9, 16, 25}\n"
     ]
    }
   ],
   "source": [
    "set_={i*i for i in range(1,6)}\n",
    "print(set_)"
   ]
  },
  {
   "attachments": {},
   "cell_type": "markdown",
   "metadata": {},
   "source": [
    "### 26. Filter out all even numbers from a set."
   ]
  },
  {
   "cell_type": "code",
   "execution_count": 26,
   "metadata": {},
   "outputs": [
    {
     "name": "stdout",
     "output_type": "stream",
     "text": [
      "{4, 6}\n"
     ]
    }
   ],
   "source": [
    "set_={3,4,5,6,7,11,13}\n",
    "even_set={i for i in set_ if i%2==0}\n",
    "print(even_set)"
   ]
  },
  {
   "attachments": {},
   "cell_type": "markdown",
   "metadata": {},
   "source": [
    "### 27. Multiply all elements in a set by 2."
   ]
  },
  {
   "cell_type": "code",
   "execution_count": 28,
   "metadata": {},
   "outputs": [
    {
     "name": "stdout",
     "output_type": "stream",
     "text": [
      "{6, 8, 10, 12, 14, 22, 26}\n"
     ]
    }
   ],
   "source": [
    "set_={3,4,5,6,7,11,13}\n",
    "mul_set={i*2 for i in set_}\n",
    "print(mul_set)"
   ]
  },
  {
   "attachments": {},
   "cell_type": "markdown",
   "metadata": {},
   "source": [
    "### 28. Create a set of random numbers."
   ]
  },
  {
   "cell_type": "code",
   "execution_count": 32,
   "metadata": {},
   "outputs": [
    {
     "name": "stdout",
     "output_type": "stream",
     "text": [
      "{34, 71, 45, 79, 56}\n"
     ]
    }
   ],
   "source": [
    "import random \n",
    "n_cnt=5         #tell here number of element you want \n",
    "random_set=set()\n",
    "while len(random_set)!=n_cnt:\n",
    "    n=random.randint(1,100)\n",
    "    random_set.add(n)\n",
    "print(random_set)"
   ]
  },
  {
   "attachments": {},
   "cell_type": "markdown",
   "metadata": {},
   "source": [
    "### 29. Check if a set is empty."
   ]
  },
  {
   "cell_type": "code",
   "execution_count": 35,
   "metadata": {},
   "outputs": [
    {
     "name": "stdout",
     "output_type": "stream",
     "text": [
      "set is empty\n"
     ]
    }
   ],
   "source": [
    "set_=set()\n",
    "if len(set_):\n",
    "    print(\"set is not empty\")\n",
    "else:\n",
    "    print(\"set is empty\")\n"
   ]
  },
  {
   "attachments": {},
   "cell_type": "markdown",
   "metadata": {},
   "source": [
    "### 30. Create a nested set (hint: use frozenset)."
   ]
  },
  {
   "cell_type": "code",
   "execution_count": 6,
   "metadata": {},
   "outputs": [
    {
     "name": "stdout",
     "output_type": "stream",
     "text": [
      "nested set:  {frozenset({4, 5, 6}), frozenset({2, 3, 4})}\n"
     ]
    }
   ],
   "source": [
    "set1={2,3,4}\n",
    "set2={4,5,6}\n",
    "frozenset_1=frozenset(set1)\n",
    "frozenset_2=frozenset(set2)\n",
    "nested_set={frozenset_1,frozenset_2}\n",
    "print(\"nested set: \",nested_set)"
   ]
  },
  {
   "attachments": {},
   "cell_type": "markdown",
   "metadata": {},
   "source": [
    "### 31.  Remove an element from a set using the discard method."
   ]
  },
  {
   "cell_type": "code",
   "execution_count": 2,
   "metadata": {},
   "outputs": [
    {
     "name": "stdout",
     "output_type": "stream",
     "text": [
      "initial set:  {3, 4, 5, 6, 7}\n",
      "set after removing 3 : {4, 5, 6, 7}\n"
     ]
    }
   ],
   "source": [
    "set_ = {3,4,5,6,7}\n",
    "print(\"initial set: \",set_)\n",
    "element_to_remove=3\n",
    "set_.discard(element_to_remove)\n",
    "print(\"set after removing\",element_to_remove,\":\",set_)"
   ]
  },
  {
   "attachments": {},
   "cell_type": "markdown",
   "metadata": {},
   "source": [
    "### 32. Compare two sets."
   ]
  },
  {
   "cell_type": "code",
   "execution_count": 7,
   "metadata": {},
   "outputs": [
    {
     "name": "stdout",
     "output_type": "stream",
     "text": [
      "Set 1: {2, 3, 4}\n",
      "Set 2: {4, 5, 6}\n",
      "Is set1 a subset of set2? False\n",
      "Is set2 a subset of set1? False\n",
      "Intersection: {4}\n",
      "Union: {2, 3, 4, 5, 6}\n",
      "Elements in set1 but not in set2: {2, 3}\n",
      "Elements in set2 but not in set1: {5, 6}\n"
     ]
    }
   ],
   "source": [
    "set1={2,3,4}\n",
    "set2={4,5,6}\n",
    "is_subset = set1.issubset(set2)\n",
    "is_superset = set1.issuperset(set2)\n",
    "intersection = set1.intersection(set2)\n",
    "union = set1.union(set2)\n",
    "difference1 = set1.difference(set2)\n",
    "difference2 = set2.difference(set1)\n",
    "\n",
    "print(\"Set 1:\", set1)\n",
    "print(\"Set 2:\", set2)\n",
    "print(\"Is set1 a subset of set2?\", is_subset)\n",
    "print(\"Is set2 a subset of set1?\", is_superset)\n",
    "print(\"Intersection:\", intersection)\n",
    "print(\"Union:\", union)\n",
    "print(\"Elements in set1 but not in set2:\", difference1)\n",
    "print(\"Elements in set2 but not in set1:\", difference2)"
   ]
  },
  {
   "attachments": {},
   "cell_type": "markdown",
   "metadata": {},
   "source": [
    "### 33. Create a set from a string."
   ]
  },
  {
   "cell_type": "code",
   "execution_count": 8,
   "metadata": {},
   "outputs": [
    {
     "name": "stdout",
     "output_type": "stream",
     "text": [
      "{'e', 'o', 'h', 'l'}\n"
     ]
    }
   ],
   "source": [
    "string=\"hello\"\n",
    "set_=set(string)\n",
    "print(set_)"
   ]
  },
  {
   "attachments": {},
   "cell_type": "markdown",
   "metadata": {},
   "source": [
    "### 34. Convert a set of strings to a set of integers."
   ]
  },
  {
   "cell_type": "code",
   "execution_count": 9,
   "metadata": {},
   "outputs": [
    {
     "name": "stdout",
     "output_type": "stream",
     "text": [
      "{67, 45, 22}\n"
     ]
    }
   ],
   "source": [
    "string={\"22\",\"45\",\"67\"}\n",
    "set_int=set(int(i) for i in string)\n",
    "print(set_int)"
   ]
  },
  {
   "attachments": {},
   "cell_type": "markdown",
   "metadata": {},
   "source": [
    "### 35. Convert a set of integers to a set of strings."
   ]
  },
  {
   "cell_type": "code",
   "execution_count": 10,
   "metadata": {},
   "outputs": [
    {
     "name": "stdout",
     "output_type": "stream",
     "text": [
      "{'22', '67', '45'}\n"
     ]
    }
   ],
   "source": [
    "int_={67, 45, 22}\n",
    "set_str=set(str(i) for i in int_)\n",
    "print(set_str)"
   ]
  },
  {
   "attachments": {},
   "cell_type": "markdown",
   "metadata": {},
   "source": [
    "### 36. Create a set from a tuple."
   ]
  },
  {
   "cell_type": "code",
   "execution_count": 11,
   "metadata": {},
   "outputs": [
    {
     "name": "stdout",
     "output_type": "stream",
     "text": [
      "{3, 4, 5, 7, 8}\n"
     ]
    }
   ],
   "source": [
    "tup=(3,4,5,7,8)\n",
    "set_=set(i for i in tup)\n",
    "print(set_)"
   ]
  },
  {
   "attachments": {},
   "cell_type": "markdown",
   "metadata": {},
   "source": [
    "### 37. Convert a set to a tuple."
   ]
  },
  {
   "cell_type": "code",
   "execution_count": 13,
   "metadata": {},
   "outputs": [
    {
     "name": "stdout",
     "output_type": "stream",
     "text": [
      "(3, 4, 5, 7, 8)\n"
     ]
    }
   ],
   "source": [
    "set_={3, 4, 5, 7, 8}\n",
    "tup=tuple(set_)\n",
    "print(tup)"
   ]
  },
  {
   "attachments": {},
   "cell_type": "markdown",
   "metadata": {},
   "source": [
    "### 38. Find the maximum value in a set."
   ]
  },
  {
   "cell_type": "code",
   "execution_count": 14,
   "metadata": {},
   "outputs": [
    {
     "name": "stdout",
     "output_type": "stream",
     "text": [
      "8\n"
     ]
    }
   ],
   "source": [
    "set_={3,4,5,6,8}\n",
    "print(max(set_))"
   ]
  },
  {
   "attachments": {},
   "cell_type": "markdown",
   "metadata": {},
   "source": [
    "### 39. Find the minimum value in a set."
   ]
  },
  {
   "cell_type": "code",
   "execution_count": 17,
   "metadata": {},
   "outputs": [
    {
     "name": "stdout",
     "output_type": "stream",
     "text": [
      "3\n"
     ]
    }
   ],
   "source": [
    "set_={3,4,5,6,8}\n",
    "print(min(set_))"
   ]
  },
  {
   "attachments": {},
   "cell_type": "markdown",
   "metadata": {},
   "source": [
    "### 40. Create a set from user input."
   ]
  },
  {
   "cell_type": "code",
   "execution_count": 33,
   "metadata": {},
   "outputs": [
    {
     "name": "stdout",
     "output_type": "stream",
     "text": [
      "you entered: 4 5 7 hello bye\n",
      "{'4', '7', 'bye', 'hello', '5'}\n"
     ]
    }
   ],
   "source": [
    "input_=input(\"enter elements seperated by space : \")\n",
    "set_val= input_.split(' ')\n",
    "set_=set(i for i in set_val)\n",
    "print(\"you entered:\",input_)\n",
    "print(set_)"
   ]
  },
  {
   "attachments": {},
   "cell_type": "markdown",
   "metadata": {},
   "source": [
    "### 41. Check if the intersection of two sets is empty"
   ]
  },
  {
   "cell_type": "code",
   "execution_count": 41,
   "metadata": {},
   "outputs": [
    {
     "name": "stdout",
     "output_type": "stream",
     "text": [
      "empty\n"
     ]
    }
   ],
   "source": [
    "set1={3,4}\n",
    "set2={5,6}\n",
    "if not set1.intersection(set2):\n",
    "    print(\"empty\")\n",
    "else:\n",
    "    print(\"not empty\")"
   ]
  },
  {
   "attachments": {},
   "cell_type": "markdown",
   "metadata": {},
   "source": [
    "### 42. Create a set of the first 5 Fibonacci numbers."
   ]
  },
  {
   "cell_type": "code",
   "execution_count": 43,
   "metadata": {},
   "outputs": [
    {
     "name": "stdout",
     "output_type": "stream",
     "text": [
      "set of first 5 fibonacci no: {0, 1, 2, 3, 5}\n"
     ]
    }
   ],
   "source": [
    "fib=set()\n",
    "a,b=0,1\n",
    "for i in range(6):\n",
    "    fib.add(a)\n",
    "    a,b=b,a+b \n",
    "print(\"set of first 5 fibonacci no:\",fib)"
   ]
  },
  {
   "attachments": {},
   "cell_type": "markdown",
   "metadata": {},
   "source": [
    "### 43. Remove duplicates from a list using sets."
   ]
  },
  {
   "cell_type": "code",
   "execution_count": 4,
   "metadata": {},
   "outputs": [
    {
     "name": "stdout",
     "output_type": "stream",
     "text": [
      "list without duplicate:  [3, 4, 5, 6, 7]\n"
     ]
    }
   ],
   "source": [
    "l=[3,4,5,6,5,7]\n",
    "a=set(l)\n",
    "print(\"list without duplicate: \",list(a))\n"
   ]
  },
  {
   "attachments": {},
   "cell_type": "markdown",
   "metadata": {},
   "source": [
    "### 44. Check if two sets have the same elements, regardless of their count."
   ]
  },
  {
   "cell_type": "code",
   "execution_count": 10,
   "metadata": {},
   "outputs": [
    {
     "name": "stdout",
     "output_type": "stream",
     "text": [
      "does both set have same element : False\n"
     ]
    }
   ],
   "source": [
    "def is_same_el(set1,set2):\n",
    "    s1=sorted(set1)\n",
    "    s2=sorted(set2)\n",
    "    return s1==s2\n",
    "set1={2,3,4,5}\n",
    "set2={4,5,6}\n",
    "res = is_same_el(set1,set2)\n",
    "print(\"does both set have same element :\",res)"
   ]
  },
  {
   "attachments": {},
   "cell_type": "markdown",
   "metadata": {},
   "source": [
    "### 45. Create a set of the first `n` powers of 2"
   ]
  },
  {
   "cell_type": "code",
   "execution_count": 11,
   "metadata": {},
   "outputs": [
    {
     "name": "stdout",
     "output_type": "stream",
     "text": [
      "{1, 2, 4, 8, 16}\n"
     ]
    }
   ],
   "source": [
    "n=5\n",
    "set_=set(2**i for i in range(n))\n",
    "print(set_)"
   ]
  },
  {
   "attachments": {},
   "cell_type": "markdown",
   "metadata": {},
   "source": [
    "### 46. Find the common elements between a set and a list."
   ]
  },
  {
   "cell_type": "code",
   "execution_count": 14,
   "metadata": {},
   "outputs": [
    {
     "name": "stdout",
     "output_type": "stream",
     "text": [
      "{4, 5}\n"
     ]
    }
   ],
   "source": [
    "list_=[2,3,4,5]\n",
    "set_={7,4,5}\n",
    "common=set_.intersection(set(list_))\n",
    "print(common)"
   ]
  },
  {
   "attachments": {},
   "cell_type": "markdown",
   "metadata": {},
   "source": [
    "### 47. Create a set of the first `n` triangular numbers.:"
   ]
  },
  {
   "cell_type": "code",
   "execution_count": 5,
   "metadata": {},
   "outputs": [
    {
     "name": "stdout",
     "output_type": "stream",
     "text": [
      "first 10 triangular no : {1, 3, 36, 6, 10, 45, 15, 21, 55, 28}\n"
     ]
    },
    {
     "data": {
      "text/plain": [
       "{1, 3, 6, 10, 15, 21, 28, 36, 45, 55}"
      ]
     },
     "execution_count": 5,
     "metadata": {},
     "output_type": "execute_result"
    }
   ],
   "source": [
    "def triangular_first(n):\n",
    "    return set((i*(i+1)//2 for i in range(1,n+1)))\n",
    "n=10\n",
    "set_=triangular_first(n)\n",
    "\n",
    "print(f\"first {n} triangular no : {set_}\")\n",
    "set_"
   ]
  },
  {
   "attachments": {},
   "cell_type": "markdown",
   "metadata": {},
   "source": [
    "### 48. Check if a set contains another set as a subset."
   ]
  },
  {
   "cell_type": "code",
   "execution_count": 27,
   "metadata": {},
   "outputs": [
    {
     "name": "stdout",
     "output_type": "stream",
     "text": [
      "set2 is subset of set1\n"
     ]
    }
   ],
   "source": [
    "set1 = {2,3,4,5}\n",
    "set2 = {3,5}\n",
    "is_subset = set2.issubset(set1)\n",
    "if is_subset:\n",
    "    print(\"set2 is subset of set1\")\n",
    "else:\n",
    "    print(\"set2 is not subset of set1\")"
   ]
  },
  {
   "attachments": {},
   "cell_type": "markdown",
   "metadata": {},
   "source": [
    "### 49. Create a set of alternating 1s and 0s of length `n`.\n"
   ]
  },
  {
   "attachments": {},
   "cell_type": "markdown",
   "metadata": {},
   "source": [
    "Answer: its not possible as set cant contain duplicate elements in it so it maximum includes 0 and 1 once {0,1}"
   ]
  },
  {
   "attachments": {},
   "cell_type": "markdown",
   "metadata": {},
   "source": [
    "### 50. Merge multiple sets into one."
   ]
  },
  {
   "cell_type": "code",
   "execution_count": 38,
   "metadata": {},
   "outputs": [
    {
     "name": "stdout",
     "output_type": "stream",
     "text": [
      "merged set : {1, 2, 3, 4, 5, 6, 7}\n"
     ]
    }
   ],
   "source": [
    "set1 = {1, 2, 3}\n",
    "set2 = {3, 4, 5}\n",
    "set3 = {5, 6, 7}\n",
    "set_=set1.union(set2,set3)\n",
    "print(\"merged set :\",set_)"
   ]
  }
 ],
 "metadata": {
  "kernelspec": {
   "display_name": "Python 3",
   "language": "python",
   "name": "python3"
  },
  "language_info": {
   "codemirror_mode": {
    "name": "ipython",
    "version": 3
   },
   "file_extension": ".py",
   "mimetype": "text/x-python",
   "name": "python",
   "nbconvert_exporter": "python",
   "pygments_lexer": "ipython3",
   "version": "3.11.5"
  },
  "orig_nbformat": 4,
  "vscode": {
   "interpreter": {
    "hash": "ecf6fec68def9c78c0ac7727270b095ff0a308244277d28006f74604d64ca6c8"
   }
  }
 },
 "nbformat": 4,
 "nbformat_minor": 2
}
