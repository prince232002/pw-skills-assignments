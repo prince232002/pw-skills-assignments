{
 "cells": [
  {
   "cell_type": "markdown",
   "metadata": {},
   "source": [
    "`1. Find the value of T(2) for the rec%rrence relation T(n) = 3T(n-1) + 12n, given that T(0)=5. ` "
   ]
  },
  {
   "cell_type": "code",
   "execution_count": 2,
   "metadata": {},
   "outputs": [
    {
     "name": "stdout",
     "output_type": "stream",
     "text": [
      "T(2) =  105\n"
     ]
    }
   ],
   "source": [
    "def T(n): \n",
    "    if (n == 0): \n",
    "        return 5\n",
    "    return (3 * T(n - 1) + 12 * n) \n",
    "print(\"T(2) = \",T(2))"
   ]
  },
  {
   "cell_type": "markdown",
   "metadata": {},
   "source": [
    "`2. Given a recurrence relation, solve it using the substitution method:  `      \n",
    "`a. T(n) = T(n-1) + c  `      \n",
    "`b. T(n) = 2T(n/2) + n  `      \n",
    "`c. T(n) = 2T(n/2) + c  `      \n",
    "`d. T(n) = T(n/2) + c  `      "
   ]
  },
  {
   "cell_type": "markdown",
   "metadata": {
    "vscode": {
     "languageId": "plaintext"
    }
   },
   "source": [
    "2a. T(n) = T(n-1) + c\n",
    "Base Case: Define the base case for T(n). This value is used to start the recursion. Let's assume T(0) = 1.\n",
    "Substitution: Substitute n with n-1 in the given recurrence relation: T(n-1) = T(n-2) + c\n",
    "Combine: Subtract the above equation from the original equation: T(n) - T(n-1) = c\n",
    "Telescoping Series: Apply the telescoping series technique: T(n) - T(0) = c + c + ... + c (n times)\n",
    "Closed-Form Solution: T(n) = T(0) + nc = 1 + nc\n",
    "    \n",
    "2b. T(n) = 2T(n/2) + n\n",
    "Base Case: Define the base case for T(n). Let's assume T(1) = 1.\n",
    "Substitute n/2: Substitute n by n/2 in the given recurrence relation: T(n/2) = 2T(n/4) + n/2           \n",
    "Substitute n/4: Substitute n/2 by n/4 in the updated equation: T(n/4) = 2T(n/8) + n/4           \n",
    "Pattern Recognition: Observe the pattern: each equation represents the value of T(n) at half the input size with an additional term of n/2^k, where k represents the level of substitution.           \n",
    "Generalize: Based on the pattern, we can generalize the formula for any power of 2: T(2^k) = 2T(2^(k-1)) + 2^(k-1)\n",
    "Closed-Form Solution: For a general n = 2^k, the closed-form solution is: T(n) = n * log2(n) + n\n",
    "     \n",
    "2c. T(n) = 2T(n/2) + c\n",
    "Follow steps 1 and 2 of solution 2b to reach: T(n/2) = 2T(n/4) + n/2 + c                                                                                                  \n",
    "Substitute n/4: Substitute n/2 by n/4 in the updated equation: T(n/4) = 2T(n/8) + n/4 + c/2                                                                                                  \n",
    "Pattern Recognition: Notice the additional constant term c/2^k at each level of substitution.                                                                                                  \n",
    "Generalize: The formula for any power of 2 can be generalized as: T(2^k) = 2T(2^(k-1)) + 2^(k-1) + c/2^(k-1)                                                                                                  \n",
    "Closed-Form Solution: For a general n = 2^k, the closed-form solution is: T(n) = n * log2(n) + n + c * (1 - log2(n))                                                                                                  \n",
    "        \n",
    "2d. T(n) = T(n/2) + c\n",
    "Follow steps 1 and 2 of solution 2b to reach: T(n/2) = T(n/4) + n/2\n",
    "Substitute n/4: Substitute n/2 by n/4 in the updated equation: T(n/4) = T(n/8) + n/4\n",
    "Pattern Recognition: Observe the absence of constant terms in the substitutions.\n",
    "Generalize: The formula for any power of 2 can be generalized as: T(2^k) = T(2^(k-1)) + c\n",
    "Closed-Form Solution: For a general n = 2^k, the closed-form solution is: T(n) = c * log2(n)"
   ]
  },
  {
   "cell_type": "markdown",
   "metadata": {},
   "source": [
    "`3. Given a recurrence relation, solve it using the recursive tree approach:`         \n",
    "`a. T(n) = 2T(n-1) +1`       \n",
    "`b. T(n) = 2T(n/2) + n`         "
   ]
  },
  {
   "cell_type": "markdown",
   "metadata": {},
   "source": [
    "\n",
    "Solving Recurrence Relations using Recursive Tree Approach      \n",
    "a. T(n) = 2T(n-1) + 1      \n",
    "      \n",
    "Base Case: We need a value to start the recursion. Let's assume T(1) = a.      \n",
    "Recursive Step: For any n > 1, we have T(n) = 2T(n-1) + 1.      \n",
    "Recursive Tree:      \n",
    "      \n",
    "                         T(n)      \n",
    "                        /   \\      \n",
    "                      2T(n-1) + 1      \n",
    "                     /   \\      \n",
    "                 2T(n-2) + 1  + 1      \n",
    "                /   \\       /   \\      \n",
    "             2T(n-3) + 1 + 1  + 1 + 1      \n",
    "             /   \\       /   \\       /   \\      \n",
    "           ...       ...    ...     ...    ...      \n",
    "          /   \\       /   \\       /   \\      \n",
    "         a    a     a    a     a    a      \n",
    "Analysis:      \n",
    "      \n",
    "Each level of the tree doubles the number of nodes compared to the previous level.      \n",
    "Each node except the root adds 1 to the total complexity.      \n",
    "Therefore, the total complexity is approximately O(2^n).      \n",
    "      \n",
    "b. T(n) = 2T(n/2) + n      \n",
    "      \n",
    "Base Case: We need a value to start the recursion. Let's assume T(1) = a.      \n",
    "Recursive Step: For any n > 1 and n is a power of 2, we have T(n) = 2T(n/2) + n.      \n",
    "Recursive Tree:      \n",
    "      \n",
    "                         T(n)      \n",
    "                       /    \\      \n",
    "                      T(n/2)  n      \n",
    "                     /    \\      \n",
    "                    T(n/4)  n/2      \n",
    "                   /    \\      \n",
    "                  T(n/8)  n/4      \n",
    "                 /    \\      \n",
    "                a     a      \n",
    "Analysis:      \n",
    "      \n",
    "Each level of the tree halves the problem size (n/2).      \n",
    "Each node adds n to the total complexity.      \n",
    "Therefore, the total complexity is approximately O(n log n).      "
   ]
  }
 ],
 "metadata": {
  "kernelspec": {
   "display_name": "Python 3",
   "language": "python",
   "name": "python3"
  },
  "language_info": {
   "codemirror_mode": {
    "name": "ipython",
    "version": 3
   },
   "file_extension": ".py",
   "mimetype": "text/x-python",
   "name": "python",
   "nbconvert_exporter": "python",
   "pygments_lexer": "ipython3",
   "version": "3.12.0"
  }
 },
 "nbformat": 4,
 "nbformat_minor": 2
}
