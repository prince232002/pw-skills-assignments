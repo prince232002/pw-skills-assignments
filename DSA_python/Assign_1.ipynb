{
 "cells": [
  {
   "cell_type": "markdown",
   "metadata": {},
   "source": [
    "1.1.\tGiven an array, check if it contains any duplicates or not.   \n",
    "arr = [1, 2, 4, 2, 5, 9]   \n",
    "Output = True   "
   ]
  },
  {
   "cell_type": "code",
   "execution_count": 43,
   "metadata": {},
   "outputs": [
    {
     "data": {
      "text/plain": [
       "True"
      ]
     },
     "execution_count": 43,
     "metadata": {},
     "output_type": "execute_result"
    }
   ],
   "source": [
    "def check_dup(arr):\n",
    "    return len(set(arr)) < len(arr)\n",
    "\n",
    "arr=[1,2,4,2,5,9]\n",
    "check_dup(arr)               "
   ]
  },
  {
   "cell_type": "markdown",
   "metadata": {},
   "source": [
    "2.\tGiven an array and an integer k, rotate the array to the right by k steps.  \n",
    "arr = [1, 2, 3, 4, 5, 6, 7]  \n",
    "k = 3  \n",
    "Output = [5, 6, 7, 1, 2, 3, 4]  "
   ]
  },
  {
   "cell_type": "code",
   "execution_count": 36,
   "metadata": {},
   "outputs": [
    {
     "data": {
      "text/plain": [
       "[5, 6, 7, 1, 2, 3, 4]"
      ]
     },
     "execution_count": 36,
     "metadata": {},
     "output_type": "execute_result"
    }
   ],
   "source": [
    "def rotate_right(arr,k):\n",
    "    n=len(arr)\n",
    "    k=k%n\n",
    "    return arr[-k:]+arr[:-k]\n",
    "\n",
    "arr=[1,2,3,4,5,6,7]\n",
    "k=3\n",
    "rotate_right(arr,k)"
   ]
  },
  {
   "cell_type": "markdown",
   "metadata": {},
   "source": [
    "3.\tReverse the given array in-place, means without using any extra data structure.   \n",
    "arr = [2, 4, 5, 7, 9, 12]   \n",
    "Output = [12, 9, 7, 5, 4, 2]   "
   ]
  },
  {
   "cell_type": "code",
   "execution_count": 37,
   "metadata": {},
   "outputs": [
    {
     "data": {
      "text/plain": [
       "[12, 9, 7, 5, 4, 2]"
      ]
     },
     "execution_count": 37,
     "metadata": {},
     "output_type": "execute_result"
    }
   ],
   "source": [
    "def reverse_arr(arr):\n",
    "    return arr[::-1]\n",
    "\n",
    "arr=[2,4,5,7,9,12]\n",
    "reverse_arr(arr)"
   ]
  },
  {
   "cell_type": "markdown",
   "metadata": {},
   "source": [
    "4.\tGiven an array of integers, find the maximum element in an array  \n",
    "arr = [10, 5, 20, 8, 15]  \n",
    "Output = 20  "
   ]
  },
  {
   "cell_type": "code",
   "execution_count": 38,
   "metadata": {},
   "outputs": [
    {
     "data": {
      "text/plain": [
       "20"
      ]
     },
     "execution_count": 38,
     "metadata": {},
     "output_type": "execute_result"
    }
   ],
   "source": [
    "def max_element(arr):\n",
    "    i=0\n",
    "    max=0\n",
    "    for i in arr:\n",
    "        if i>max:\n",
    "            max=i\n",
    "    return max\n",
    "\n",
    "arr = [10, 5, 20, 8, 15]  \n",
    "max_element(arr)"
   ]
  },
  {
   "cell_type": "markdown",
   "metadata": {},
   "source": [
    "5.\tGiven a sorted array, remove the duplicate element without using any extra data structure.  \n",
    "arr = [1, 1, 2, 2, 2, 3, 3, 4, 4, 4, 5, 5]  \n",
    "Output = [1, 2, 3, 4, 5]  "
   ]
  },
  {
   "cell_type": "code",
   "execution_count": 34,
   "metadata": {},
   "outputs": [
    {
     "data": {
      "text/plain": [
       "[1, 2, 3, 4, 5]"
      ]
     },
     "execution_count": 34,
     "metadata": {},
     "output_type": "execute_result"
    }
   ],
   "source": [
    "def remove_dup(arr):\n",
    "    n=len(arr)\n",
    "    if n<2:\n",
    "        return n\n",
    "    else:\n",
    "        k=1\n",
    "        for i in range(1,n):\n",
    "            if arr[i]!=arr[i-1]:\n",
    "                arr[k]=arr[i]\n",
    "                k+=1\n",
    "        return arr[:k]\n",
    "    \n",
    "arr = [1, 1, 2, 2, 2, 3, 3, 4, 4, 4, 5, 5]  \n",
    "remove_dup(arr)\n"
   ]
  }
 ],
 "metadata": {
  "kernelspec": {
   "display_name": "Python 3",
   "language": "python",
   "name": "python3"
  },
  "language_info": {
   "codemirror_mode": {
    "name": "ipython",
    "version": 3
   },
   "file_extension": ".py",
   "mimetype": "text/x-python",
   "name": "python",
   "nbconvert_exporter": "python",
   "pygments_lexer": "ipython3",
   "version": "3.12.0"
  }
 },
 "nbformat": 4,
 "nbformat_minor": 2
}
