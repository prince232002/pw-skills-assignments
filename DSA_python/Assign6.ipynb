{
 "cells": [
  {
   "cell_type": "markdown",
   "metadata": {},
   "source": [
    "## Find time complexity of below code blocks :"
   ]
  },
  {
   "cell_type": "markdown",
   "metadata": {},
   "source": [
    "Problem 1 :  \n",
    "def quicksort(arr):  \n",
    "if len(arr) <= 1:  \n",
    "return arr  \n",
    "pivot = arr[len(arr) // 2]  \n",
    "left = [x for x in arr if x < pivot]  \n",
    "middle = [x for x in arr if x == pivot]  \n",
    "right = [x for x in arr if x > pivot]  \n",
    "return quicksort(left) + middle + quicksort(right)  "
   ]
  },
  {
   "cell_type": "markdown",
   "metadata": {},
   "source": [
    "`In the worst case (when the pivot is chosen poorly), the time complexity is O(n^2).`"
   ]
  },
  {
   "cell_type": "markdown",
   "metadata": {},
   "source": [
    "Problem 2 :  \n",
    "def nested_loop_example(matrix):  \n",
    "rows, cols = len(matrix), len(matrix[0])  \n",
    "total = 0  \n",
    "for i in range(rows):  \n",
    "for j in range(cols):  \n",
    "total += matrix[i][j]  \n",
    "return total  "
   ]
  },
  {
   "cell_type": "markdown",
   "metadata": {},
   "source": [
    "`matrix has dimensions m x n, then the time complexity is O(m * n) as it visits each cell once.`"
   ]
  },
  {
   "cell_type": "markdown",
   "metadata": {},
   "source": [
    "Problem 3 :  \n",
    "def example_function(arr):  \n",
    "result = 0  \n",
    "for element in arr:  \n",
    "result += element  \n",
    "return result  "
   ]
  },
  {
   "cell_type": "markdown",
   "metadata": {},
   "source": [
    "` time complexity is O(n), where n is the length of the input array.`"
   ]
  },
  {
   "cell_type": "markdown",
   "metadata": {},
   "source": [
    "Problem 4 :  \n",
    "def longest_increasing_subsequence(nums):  \n",
    "n = len(nums)  \n",
    "lis = [1] * n  \n",
    "for i in range(1, n):  \n",
    "for j in range(0, i):  \n",
    "if nums[i] > nums[j] and lis[i] < lis[j] + 1:  \n",
    "lis[i] = lis[j] + 1  \n",
    "return max(lis)  "
   ]
  },
  {
   "cell_type": "markdown",
   "metadata": {},
   "source": [
    "`The time complexity of the dynamic programming solution for the Longest Increasing Subsequence problem is O(n^2)`"
   ]
  },
  {
   "cell_type": "markdown",
   "metadata": {},
   "source": [
    "Problem 5 :    \n",
    "def mysterious_function(arr):    \n",
    "n = len(arr)    \n",
    "result = 0    \n",
    "for i in range(n):    \n",
    "for j in range(i, n):    \n",
    "result += arr[i] * arr[j]    \n",
    "return result    "
   ]
  },
  {
   "cell_type": "markdown",
   "metadata": {},
   "source": [
    "`The time complexity is O(n^2)`"
   ]
  },
  {
   "cell_type": "markdown",
   "metadata": {},
   "source": [
    "## Solve the following problems on recursion"
   ]
  },
  {
   "cell_type": "markdown",
   "metadata": {},
   "source": [
    "Problem 6 : Sum of Digits  \n",
    "Write a recursive function to calculate the sum of digits of a given positive integer.  \n",
    "sum_of_digits(123) -> 6  "
   ]
  },
  {
   "cell_type": "code",
   "execution_count": 2,
   "metadata": {},
   "outputs": [
    {
     "name": "stdout",
     "output_type": "stream",
     "text": [
      "6\n"
     ]
    }
   ],
   "source": [
    "def sum_of_digits(n):\n",
    "    if n == 0:\n",
    "        return 0\n",
    "    return n % 10 + sum_of_digits(n // 10)\n",
    "\n",
    "print(sum_of_digits(123))"
   ]
  },
  {
   "cell_type": "markdown",
   "metadata": {},
   "source": [
    "Problem 7: Fibonacci Series     \n",
    "Write a recursive function to generate the first n numbers of the Fibonacci series.     \n",
    "fibonacci_series(6) -> [0, 1, 1, 2, 3, 5]     "
   ]
  },
  {
   "cell_type": "code",
   "execution_count": 8,
   "metadata": {},
   "outputs": [
    {
     "name": "stdout",
     "output_type": "stream",
     "text": [
      "[0, 1, 1, 2, 3, 5]\n"
     ]
    }
   ],
   "source": [
    "def fibonacci_series(n):\n",
    "    if n <= 0:\n",
    "        return []\n",
    "    elif n == 1:\n",
    "        return [0]\n",
    "    elif n == 2:\n",
    "        return [0, 1]\n",
    "    else:\n",
    "        fib_series = fibonacci_series(n - 1)\n",
    "        fib_series.append(fib_series[-1] + fib_series[-2])\n",
    "        return fib_series\n",
    "\n",
    "print(fibonacci_series(6))"
   ]
  },
  {
   "cell_type": "markdown",
   "metadata": {},
   "source": [
    "Problem 8 : Subset Sum    \n",
    "Given a set of positive integers and a target sum, write a recursive function to determine if there exists a subset\n",
    "of the integers that adds up to the target sum.   \n",
    "subset_sum([3, 34, 4, 12, 5, 2], 9) -> True   "
   ]
  },
  {
   "cell_type": "code",
   "execution_count": 4,
   "metadata": {},
   "outputs": [
    {
     "name": "stdout",
     "output_type": "stream",
     "text": [
      "True\n"
     ]
    }
   ],
   "source": [
    "def subset_sum(nums, target):\n",
    "    if target == 0:\n",
    "        return True\n",
    "    if not nums or target < 0:\n",
    "        return False\n",
    "    return subset_sum(nums[:-1], target - nums[-1]) or subset_sum(nums[:-1], target)\n",
    "\n",
    "print(subset_sum([3, 34, 4, 12, 5, 2], 9)) "
   ]
  },
  {
   "cell_type": "markdown",
   "metadata": {},
   "source": [
    "Problem 9: Word Break    \n",
    "Given a non-empty string and a dictionary of words, write a recursive function to determine if the string can be\n",
    "segmented into a space-separated sequence of dictionary words.  \n",
    "word_break( leetcode , [ leet , code ]) -> True  "
   ]
  },
  {
   "cell_type": "code",
   "execution_count": 5,
   "metadata": {},
   "outputs": [
    {
     "name": "stdout",
     "output_type": "stream",
     "text": [
      "True\n"
     ]
    }
   ],
   "source": [
    "def word_break(s, wordDict):\n",
    "    if not s:\n",
    "        return True\n",
    "    for word in wordDict:\n",
    "        if s.startswith(word) and word_break(s[len(word):], wordDict):\n",
    "            return True\n",
    "    return False\n",
    "\n",
    "print(word_break(\"leetcode\", [\"leet\", \"code\"]))"
   ]
  },
  {
   "cell_type": "markdown",
   "metadata": {},
   "source": [
    "Problem 10 : N-Queens  \n",
    "Implement a recursive function to solve the N Queens problem, where you have to place N queens on an N×N\n",
    "chessboard in such a way that no two queens threaten each other.  \n",
    "n_queens(4)   \n",
    "[   \n",
    "[\".Q..\",   \n",
    "\"...Q\",   \n",
    "\"Q...\",   \n",
    "\"..Q.\"],   \n",
    "[\"..Q.\",   \n",
    "\"Q...\",   \n",
    "\"...Q\",   \n",
    "\".Q..\"]   \n",
    "]  "
   ]
  },
  {
   "cell_type": "code",
   "execution_count": 6,
   "metadata": {},
   "outputs": [
    {
     "name": "stdout",
     "output_type": "stream",
     "text": [
      "[['.Q..', '...Q', 'Q...', '..Q.'], ['.Q..', '...Q', '..Q.', 'Q...'], ['..Q.', 'Q...', '...Q', '.Q..'], ['..Q.', '.Q..', '...Q', 'Q...'], ['...Q', 'Q...', '..Q.', '.Q..'], ['...Q', '.Q..', 'Q...', '..Q.'], ['...Q', '..Q.', '.Q..', 'Q...']]\n"
     ]
    }
   ],
   "source": [
    "def is_safe(board, row, col, n):\n",
    "    for i in range(row):\n",
    "        if board[i][col] == 'Q':\n",
    "            return False\n",
    "        for j in range(col):\n",
    "            if board[i][j] == 'Q' and (row - i == col - j or row - i == j - col):\n",
    "                return False\n",
    "    return True\n",
    "\n",
    "def solve_n_queens_util(board, row, n, result):\n",
    "    if row == n:\n",
    "        result.append([\"\".join(row) for row in board])\n",
    "        return\n",
    "    for col in range(n):\n",
    "        if is_safe(board, row, col, n):\n",
    "            board[row][col] = 'Q'\n",
    "            solve_n_queens_util(board, row + 1, n, result)\n",
    "            board[row][col] = '.'\n",
    "\n",
    "def n_queens(n):\n",
    "    board = [['.' for _ in range(n)] for _ in range(n)]\n",
    "    result = []\n",
    "    solve_n_queens_util(board, 0, n, result)\n",
    "    return result\n",
    "\n",
    "print(n_queens(4))"
   ]
  }
 ],
 "metadata": {
  "kernelspec": {
   "display_name": "Python 3",
   "language": "python",
   "name": "python3"
  },
  "language_info": {
   "codemirror_mode": {
    "name": "ipython",
    "version": 3
   },
   "file_extension": ".py",
   "mimetype": "text/x-python",
   "name": "python",
   "nbconvert_exporter": "python",
   "pygments_lexer": "ipython3",
   "version": "3.12.2"
  }
 },
 "nbformat": 4,
 "nbformat_minor": 2
}
